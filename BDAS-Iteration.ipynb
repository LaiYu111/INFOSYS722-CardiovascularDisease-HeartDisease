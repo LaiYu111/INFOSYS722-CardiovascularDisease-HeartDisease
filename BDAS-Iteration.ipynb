{
 "cells": [
  {
   "cell_type": "code",
   "execution_count": 1,
   "metadata": {},
   "outputs": [
    {
     "name": "stderr",
     "output_type": "stream",
     "text": [
      "WARNING: An illegal reflective access operation has occurred\n",
      "WARNING: Illegal reflective access by org.apache.spark.unsafe.Platform (file:/home/ubuntu/spark-3.2.1-bin-hadoop2.7/jars/spark-unsafe_2.12-3.2.1.jar) to constructor java.nio.DirectByteBuffer(long,int)\n",
      "WARNING: Please consider reporting this to the maintainers of org.apache.spark.unsafe.Platform\n",
      "WARNING: Use --illegal-access=warn to enable warnings of further illegal reflective access operations\n",
      "WARNING: All illegal access operations will be denied in a future release\n",
      "Using Spark's default log4j profile: org/apache/spark/log4j-defaults.properties\n",
      "Setting default log level to \"WARN\".\n",
      "To adjust logging level use sc.setLogLevel(newLevel). For SparkR, use setLogLevel(newLevel).\n",
      "23/10/08 10:36:31 WARN NativeCodeLoader: Unable to load native-hadoop library for your platform... using builtin-java classes where applicable\n",
      "23/10/08 10:36:34 WARN Utils: Service 'SparkUI' could not bind on port 4040. Attempting port 4041.\n"
     ]
    }
   ],
   "source": [
    "import findspark\n",
    "findspark.init('/home/ubuntu/spark-3.2.1-bin-hadoop2.7')\n",
    "import pyspark\n",
    "from pyspark.sql import SparkSession\n",
    "spark = SparkSession.builder.appName('basics').getOrCreate()"
   ]
  },
  {
   "cell_type": "code",
   "execution_count": 2,
   "metadata": {},
   "outputs": [
    {
     "name": "stderr",
     "output_type": "stream",
     "text": [
      "                                                                                \r"
     ]
    }
   ],
   "source": [
    "spark_df = spark.read.csv('Database/CardiovascularDisease/CVD_unclean.csv', header=True)"
   ]
  },
  {
   "cell_type": "code",
   "execution_count": 3,
   "metadata": {},
   "outputs": [
    {
     "name": "stdout",
     "output_type": "stream",
     "text": [
      "+--------------+--------------------+--------+-------------+-----------+------------+----------+--------+---------+------+------------+-----------+-----------+-----+---------------+-------------------+-----------------+----------------------------+-----------------------+\n",
      "|General_Health|             Checkup|Exercise|Heart_Disease|Skin_Cancer|Other_Cancer|Depression|Diabetes|Arthritis|   Sex|Age_Category|Height_(cm)|Weight_(kg)|  BMI|Smoking_History|Alcohol_Consumption|Fruit_Consumption|Green_Vegetables_Consumption|FriedPotato_Consumption|\n",
      "+--------------+--------------------+--------+-------------+-----------+------------+----------+--------+---------+------+------------+-----------+-----------+-----+---------------+-------------------+-----------------+----------------------------+-----------------------+\n",
      "|          Poor|Within the past 2...|      No|           No|         No|          No|        No|      No|      Yes|Female|       70-74|        150|      32.66|14.54|            Yes|                  0|               30|                          16|                     12|\n",
      "|     Very Good|Within the past year|      No|          Yes|         No|          No|        No|     Yes|       No|Female|       70-74|        165|      77.11|28.29|             No|                  0|               30|                           0|                      4|\n",
      "|     Very Good|Within the past year|     Yes|           No|         No|          No|        No|     Yes|       No|Female|       60-64|        163|      88.45|33.47|             No|                  4|               12|                           3|                     16|\n",
      "|          Poor|Within the past year|     Yes|          Yes|         No|          No|        No|     Yes|       No|  null|       75-79|        180|      93.44|28.73|             No|                  0|               30|                          30|                      8|\n",
      "|          Good|Within the past year|      No|           No|         No|          No|        No|      No|       No|  Male|         80+|        191|      88.45|24.37|            Yes|                  0|                8|                           4|                      0|\n",
      "+--------------+--------------------+--------+-------------+-----------+------------+----------+--------+---------+------+------------+-----------+-----------+-----+---------------+-------------------+-----------------+----------------------------+-----------------------+\n",
      "only showing top 5 rows\n",
      "\n"
     ]
    }
   ],
   "source": [
    "from pyspark.sql.functions import col\n",
    "\n",
    "spark_df = spark_df.withColumn(\"Alcohol_Consumption\", col(\"Alcohol_Consumption\").cast(\"int\"))\n",
    "spark_df = spark_df.withColumn(\"Height_(cm)\", col(\"Height_(cm)\").cast(\"int\"))\n",
    "spark_df = spark_df.withColumn(\"Weight_(kg)\", col(\"Weight_(kg)\").cast(\"float\"))\n",
    "spark_df = spark_df.withColumn(\"BMI\", col(\"BMI\").cast(\"float\"))\n",
    "spark_df = spark_df.withColumn(\"Height_(cm)\", col(\"Height_(cm)\").cast(\"int\"))\n",
    "spark_df = spark_df.withColumn(\"Fruit_Consumption\", col(\"Fruit_Consumption\").cast(\"int\"))\n",
    "spark_df = spark_df.withColumn(\"Green_Vegetables_Consumption\", col(\"Green_Vegetables_Consumption\").cast(\"int\"))\n",
    "spark_df = spark_df.withColumn(\"FriedPotato_Consumption\", col(\"FriedPotato_Consumption\").cast(\"int\"))\n",
    "\n",
    "spark_df.show(5)"
   ]
  },
  {
   "cell_type": "code",
   "execution_count": 4,
   "metadata": {},
   "outputs": [
    {
     "name": "stderr",
     "output_type": "stream",
     "text": [
      "[Stage 2:=============================>                             (1 + 1) / 2]\r"
     ]
    },
    {
     "name": "stdout",
     "output_type": "stream",
     "text": [
      "+--------------+-------+--------+-------------+-----------+------------+----------+--------+---------+---+------------+-----------+-----------+---+---------------+-------------------+-----------------+----------------------------+-----------------------+\n",
      "|General_Health|Checkup|Exercise|Heart_Disease|Skin_Cancer|Other_Cancer|Depression|Diabetes|Arthritis|Sex|Age_Category|Height_(cm)|Weight_(kg)|BMI|Smoking_History|Alcohol_Consumption|Fruit_Consumption|Green_Vegetables_Consumption|FriedPotato_Consumption|\n",
      "+--------------+-------+--------+-------------+-----------+------------+----------+--------+---------+---+------------+-----------+-----------+---+---------------+-------------------+-----------------+----------------------------+-----------------------+\n",
      "|             0|      0|       0|            0|          0|           0|         0|       0|        0|  0|           0|          0|          0|  0|              0|                  0|                0|                           0|                      0|\n",
      "+--------------+-------+--------+-------------+-----------+------------+----------+--------+---------+---+------------+-----------+-----------+---+---------------+-------------------+-----------------+----------------------------+-----------------------+\n",
      "\n"
     ]
    },
    {
     "name": "stderr",
     "output_type": "stream",
     "text": [
      "                                                                                \r"
     ]
    }
   ],
   "source": [
    "from pyspark.sql.functions import col, sum\n",
    "spark_cleaned_df = spark_df.na.drop()\n",
    "null_counts = spark_cleaned_df.select([sum(col(c).isNull().cast(\"int\")).alias(c) for c in spark_cleaned_df.columns])\n",
    "\n",
    "null_counts.show()"
   ]
  },
  {
   "cell_type": "code",
   "execution_count": 5,
   "metadata": {},
   "outputs": [
    {
     "name": "stdout",
     "output_type": "stream",
     "text": [
      "+--------------+--------------------+--------+-------------+-----------+------------+----------+--------+---------+------+------------+-----------+-----------+-----+---------------+-------------------+-----------------+----------------------------+-----------------------+-------------+--------------------------+------------------------+------------------------------+-----------------------------------+\n",
      "|General_Health|             Checkup|Exercise|Heart_Disease|Skin_Cancer|Other_Cancer|Depression|Diabetes|Arthritis|   Sex|Age_Category|Height_(cm)|Weight_(kg)|  BMI|Smoking_History|Alcohol_Consumption|Fruit_Consumption|Green_Vegetables_Consumption|FriedPotato_Consumption|Health_Status|Alcohol_Consumption_Status|Fruit_Consumption_Status|FriedPotato_Consumption_Status|Green_Vegetables_Consumption_Status|\n",
      "+--------------+--------------------+--------+-------------+-----------+------------+----------+--------+---------+------+------------+-----------+-----------+-----+---------------+-------------------+-----------------+----------------------------+-----------------------+-------------+--------------------------+------------------------+------------------------------+-----------------------------------+\n",
      "|          Poor|Within the past 2...|      No|           No|         No|          No|        No|      No|      Yes|Female|       70-74|        150|      32.66|14.54|            Yes|                  0|               30|                          16|                     12|  Underweight|      Zero Alcohol Cons...|    Low Fruit Consump...|          Low Fried Potato ...|               Low Green Vegetab...|\n",
      "|     Very Good|Within the past year|      No|          Yes|         No|          No|        No|     Yes|       No|Female|       70-74|        165|      77.11|28.29|             No|                  0|               30|                           0|                      4|   Overweight|      Zero Alcohol Cons...|    Low Fruit Consump...|          Low Fried Potato ...|               Zero Green Vegeta...|\n",
      "|     Very Good|Within the past year|     Yes|           No|         No|          No|        No|     Yes|       No|Female|       60-64|        163|      88.45|33.47|             No|                  4|               12|                           3|                     16|        Obese|      Low Alcohol Consu...|    Low Fruit Consump...|          Low Fried Potato ...|               Low Green Vegetab...|\n",
      "|          Good|Within the past year|      No|           No|         No|          No|        No|      No|       No|  Male|         80+|        191|      88.45|24.37|            Yes|                  0|                8|                           4|                      0|       Normal|      Zero Alcohol Cons...|    Low Fruit Consump...|          Zero Fried Potato...|               Low Green Vegetab...|\n",
      "|          Good|Within the past year|      No|           No|         No|          No|       Yes|      No|      Yes|  Male|       60-64|        183|     154.22|46.11|             No|                  0|               12|                          12|                     12|        Obese|      Zero Alcohol Cons...|    Low Fruit Consump...|          Low Fried Potato ...|               Low Green Vegetab...|\n",
      "+--------------+--------------------+--------+-------------+-----------+------------+----------+--------+---------+------+------------+-----------+-----------+-----+---------------+-------------------+-----------------+----------------------------+-----------------------+-------------+--------------------------+------------------------+------------------------------+-----------------------------------+\n",
      "only showing top 5 rows\n",
      "\n"
     ]
    }
   ],
   "source": [
    "from pyspark.sql.functions import when, col\n",
    "\n",
    "# Construct the Health_Status\n",
    "spark_cleaned_constructed_df = spark_cleaned_df.withColumn(\n",
    "  'Health_Status',\n",
    "  when(col('BMI') < 18.5, \"Underweight\")\n",
    "  .when((col('BMI') >= 18.5) & (col('BMI') <= 24.9), \"Normal\")\n",
    "  .when((col('BMI') >= 25) & (col('BMI') <= 29.9), \"Overweight\")\n",
    "  .otherwise(\"Obese\")\n",
    ")\n",
    "\n",
    "\n",
    "# Construct the Alcohol_Consumption_Status\n",
    "spark_cleaned_constructed_df = spark_cleaned_constructed_df.withColumn(\n",
    "  'Alcohol_Consumption_Status',\n",
    "  when(col('Alcohol_Consumption') == 0 , \"Zero Alcohol Consumption\")\n",
    "  .when(col('Alcohol_Consumption') <= 7.5 , \"Low Alcohol Consumption\")\n",
    "  .when((col('Alcohol_Consumption') > 7.5) & (col('Alcohol_Consumption') <= 15),\"Medium Alcohol Consumption\")\n",
    "  .when((col('Alcohol_Consumption') > 15) & (col('Alcohol_Consumption') <= 22.5), \"High Alcohol Consumption\")\n",
    "  .otherwise(\"Excess Alcohol Consumption\")\n",
    ")\n",
    "\n",
    "# Construct the Fruit_Consumption_Status\n",
    "spark_cleaned_constructed_df = spark_cleaned_constructed_df.withColumn(\n",
    "  'Fruit_Consumption_Status',\n",
    "  when(col('Fruit_Consumption') == 0 , \"Zero Fruit Consumption\")\n",
    "  .when(col('Fruit_Consumption') <= 30 , \"Low Fruit Consumption\")\n",
    "  .when((col('Fruit_Consumption') > 30) & (col('Fruit_Consumption') <= 60),\"Medium Fruit Consumption\")\n",
    "  .when((col('Fruit_Consumption') > 60) & (col('Fruit_Consumption') <= 90), \"High Fruit Consumption\")\n",
    "  .otherwise(\"Excess Fruit Consumption\")\n",
    ")\n",
    "\n",
    "# Construct the FriedPotato_Consumption_Status\n",
    "spark_cleaned_constructed_df = spark_cleaned_constructed_df.withColumn(\n",
    "  'FriedPotato_Consumption_Status',\n",
    "  when(col('FriedPotato_Consumption') == 0 , \"Zero Fried Potato Consumption\")\n",
    "  .when(col('FriedPotato_Consumption') <= 30 , \"Low Fried Potato Consumption\")\n",
    "  .when((col('FriedPotato_Consumption') > 30) & (col('FriedPotato_Consumption') <= 60),\"Medium Fried Potato Consumption\")\n",
    "  .when((col('FriedPotato_Consumption') > 60) & (col('FriedPotato_Consumption') <= 90), \"High Fried Potato Consumption\")\n",
    "  .otherwise(\"Excess Fried Potato Consumption\")\n",
    ")\n",
    "\n",
    "# Construct the Green_Vegetables_Consumption_Status\n",
    "spark_cleaned_constructed_df = spark_cleaned_constructed_df.withColumn(\n",
    "  'Green_Vegetables_Consumption_Status',\n",
    "  when(col('Green_Vegetables_Consumption') == 0 , \"Zero Green Vegetable Consumption\")\n",
    "  .when(col('Green_Vegetables_Consumption') <= 30 , \"Low Green Vegetable Consumption\")\n",
    "  .when((col('Green_Vegetables_Consumption') > 30) & (col('Green_Vegetables_Consumption') <= 60),\"Medium Green Vegetable Consumption\")\n",
    "  .when((col('Green_Vegetables_Consumption') > 60) & (col('Green_Vegetables_Consumption') <= 90), \"High Green Vegetable Consumption\")\n",
    "  .otherwise(\"Excess Green Vegetable Consumption\")\n",
    ")\n",
    "\n",
    "spark_cleaned_constructed_df.show(5)"
   ]
  },
  {
   "cell_type": "code",
   "execution_count": 6,
   "metadata": {},
   "outputs": [
    {
     "name": "stdout",
     "output_type": "stream",
     "text": [
      "+--------------+--------------------+--------+-------------+-----------+------------+----------+--------+---------+------+------------+---------------+-------------+--------------------------+------------------------+------------------------------+-----------------------------------+\n",
      "|General_Health|             Checkup|Exercise|Heart_Disease|Skin_Cancer|Other_Cancer|Depression|Diabetes|Arthritis|   Sex|Age_Category|Smoking_History|Health_Status|Alcohol_Consumption_Status|Fruit_Consumption_Status|FriedPotato_Consumption_Status|Green_Vegetables_Consumption_Status|\n",
      "+--------------+--------------------+--------+-------------+-----------+------------+----------+--------+---------+------+------------+---------------+-------------+--------------------------+------------------------+------------------------------+-----------------------------------+\n",
      "|          Poor|Within the past 2...|      No|           No|         No|          No|        No|      No|      Yes|Female|       70-74|            Yes|  Underweight|      Zero Alcohol Cons...|    Low Fruit Consump...|          Low Fried Potato ...|               Low Green Vegetab...|\n",
      "|     Very Good|Within the past year|      No|          Yes|         No|          No|        No|     Yes|       No|Female|       70-74|             No|   Overweight|      Zero Alcohol Cons...|    Low Fruit Consump...|          Low Fried Potato ...|               Zero Green Vegeta...|\n",
      "|     Very Good|Within the past year|     Yes|           No|         No|          No|        No|     Yes|       No|Female|       60-64|             No|        Obese|      Low Alcohol Consu...|    Low Fruit Consump...|          Low Fried Potato ...|               Low Green Vegetab...|\n",
      "|          Good|Within the past year|      No|           No|         No|          No|        No|      No|       No|  Male|         80+|            Yes|       Normal|      Zero Alcohol Cons...|    Low Fruit Consump...|          Zero Fried Potato...|               Low Green Vegetab...|\n",
      "|          Good|Within the past year|      No|           No|         No|          No|       Yes|      No|      Yes|  Male|       60-64|             No|        Obese|      Zero Alcohol Cons...|    Low Fruit Consump...|          Low Fried Potato ...|               Low Green Vegetab...|\n",
      "+--------------+--------------------+--------+-------------+-----------+------------+----------+--------+---------+------+------------+---------------+-------------+--------------------------+------------------------+------------------------------+-----------------------------------+\n",
      "only showing top 5 rows\n",
      "\n"
     ]
    }
   ],
   "source": [
    "# Drop useless variable\n",
    "\n",
    "# BMI is better than weight and height\n",
    "spark_cleaned_constructed_df = spark_cleaned_constructed_df.drop(col('Weight_(kg)'))\n",
    "spark_cleaned_constructed_df = spark_cleaned_constructed_df.drop(col('Height_(cm)'))\n",
    "\n",
    "spark_cleaned_constructed_df = spark_cleaned_constructed_df.drop(col('Alcohol_Consumption'))\n",
    "spark_cleaned_constructed_df = spark_cleaned_constructed_df.drop(col('BMI'))\n",
    "spark_cleaned_constructed_df = spark_cleaned_constructed_df.drop(col('Fruit_Consumption'))\n",
    "spark_cleaned_constructed_df = spark_cleaned_constructed_df.drop(col('FriedPotato_Consumption'))\n",
    "spark_cleaned_constructed_df = spark_cleaned_constructed_df.drop(col('Green_Vegetables_Consumption'))\n",
    "\n",
    "spark_cleaned_constructed_df.show(5)"
   ]
  },
  {
   "cell_type": "code",
   "execution_count": 7,
   "metadata": {},
   "outputs": [
    {
     "name": "stderr",
     "output_type": "stream",
     "text": [
      "                                                                                \r"
     ]
    },
    {
     "data": {
      "text/plain": [
       "<AxesSubplot:ylabel='Heart_Disease'>"
      ]
     },
     "execution_count": 7,
     "metadata": {},
     "output_type": "execute_result"
    },
    {
     "data": {
      "image/png": "[encoded data removed]",
      "text/plain": [
       "<Figure size 432x288 with 1 Axes>"
      ]
     },
     "metadata": {},
     "output_type": "display_data"
    }
   ],
   "source": [
    "# under-sampling method \n",
    "count_class_0 = spark_cleaned_constructed_df.filter(spark_cleaned_constructed_df['Heart_Disease'] == \"Yes\").count()\n",
    "count_class_1 = spark_cleaned_constructed_df.filter(spark_cleaned_constructed_df['Heart_Disease'] == \"No\").count()\n",
    "\n",
    "\n",
    "fraction = count_class_0 / float(count_class_1)\n",
    "df_class_1_under = spark_cleaned_constructed_df.filter(spark_cleaned_constructed_df['Heart_Disease'] == \"No\").sample(False, fraction)\n",
    "df_balanced = df_class_1_under.unionAll(spark_cleaned_constructed_df.filter(spark_cleaned_constructed_df['Heart_Disease'] == \"Yes\"))\n",
    "\n",
    "df_balanced_pandas = df_balanced.toPandas()\n",
    "df_balanced_pandas['Heart_Disease'].value_counts().plot.pie()"
   ]
  },
  {
   "cell_type": "code",
   "execution_count": 8,
   "metadata": {},
   "outputs": [],
   "source": [
    "from pyspark.sql import SparkSession\n",
    "from pyspark.ml import Pipeline\n",
    "from pyspark.ml.feature import StringIndexer, OneHotEncoder, VectorAssembler\n",
    "from pyspark.ml.classification import LogisticRegression\n"
   ]
  },
  {
   "cell_type": "code",
   "execution_count": 9,
   "metadata": {},
   "outputs": [
    {
     "name": "stderr",
     "output_type": "stream",
     "text": [
      "                                                                                \r"
     ]
    }
   ],
   "source": [
    "df_balanced = df_balanced.withColumn(\"Heart_Disease\", \n",
    "                   when(col(\"Heart_Disease\") == \"Yes\", 1)\n",
    "                   .when(col(\"Heart_Disease\") == \"No\", 0)\n",
    "                   .cast('int')\n",
    "                   )\n",
    "\n",
    "indexers = [StringIndexer(inputCol=column, outputCol=column+\"_index\").fit(df_balanced) for column in df_balanced.columns]\n",
    "encoders = [OneHotEncoder(inputCol=column+\"_index\", outputCol=column+\"_vec\") for column in df_balanced.columns]\n",
    "\n",
    "assembler = VectorAssembler(inputCols=[encoder.getOutputCol() for encoder in encoders], outputCol=\"features\")\n",
    "\n"
   ]
  },
  {
   "cell_type": "code",
   "execution_count": 10,
   "metadata": {},
   "outputs": [
    {
     "name": "stderr",
     "output_type": "stream",
     "text": [
      "                                                                                \r"
     ]
    }
   ],
   "source": [
    "categorical_columns = [i for i in df_balanced.columns if i != \"Heart_Disease\"]\n",
    "log_reg = LogisticRegression(featuresCol='features', labelCol='Heart_Disease')\n",
    "pipeline = Pipeline(stages=indexers + encoders + [assembler, log_reg])\n",
    "\n",
    "train_data, test_data = df_balanced.randomSplit([0.7,.3])\n",
    "fit_model = pipeline.fit(train_data)\n",
    "results = fit_model.transform(test_data)"
   ]
  },
  {
   "cell_type": "code",
   "execution_count": 11,
   "metadata": {},
   "outputs": [
    {
     "name": "stderr",
     "output_type": "stream",
     "text": [
      "                                                                                \r"
     ]
    },
    {
     "name": "stdout",
     "output_type": "stream",
     "text": [
      "Train set accuracy:  1.0\n"
     ]
    },
    {
     "name": "stderr",
     "output_type": "stream",
     "text": [
      "                                                                                \r"
     ]
    },
    {
     "name": "stdout",
     "output_type": "stream",
     "text": [
      "Test set accuracy:  1.0\n"
     ]
    },
    {
     "name": "stderr",
     "output_type": "stream",
     "text": [
      "23/10/08 10:38:56 WARN package: Truncated the string representation of a plan since it was too large. This behavior can be adjusted by setting 'spark.sql.debug.maxToStringFields'.\n",
      "                                                                                \r"
     ]
    },
    {
     "name": "stdout",
     "output_type": "stream",
     "text": [
      "              precision    recall  f1-score   support\n",
      "\n",
      "           0       1.00      1.00      1.00      7446\n",
      "           1       1.00      1.00      1.00      7532\n",
      "\n",
      "    accuracy                           1.00     14978\n",
      "   macro avg       1.00      1.00      1.00     14978\n",
      "weighted avg       1.00      1.00      1.00     14978\n",
      "\n"
     ]
    }
   ],
   "source": [
    "from pyspark.ml.evaluation import MulticlassClassificationEvaluator\n",
    "from sklearn.metrics import classification_report\n",
    "\n",
    "evaluator = MulticlassClassificationEvaluator(labelCol=\"Heart_Disease\", predictionCol=\"prediction\", metricName=\"accuracy\")\n",
    "train_results = fit_model.transform(train_data)\n",
    "train_accuracy = evaluator.evaluate(train_results)\n",
    "\n",
    "\n",
    "print(\"Train set accuracy: \", train_accuracy)\n",
    "test_accuracy = evaluator.evaluate(results)\n",
    "print(\"Test set accuracy: \", test_accuracy)\n",
    "\n",
    "\n",
    "# convert to Pandas DataFrame\n",
    "y_true = results.select(\"Heart_Disease\").toPandas()\n",
    "y_pred = results.select(\"prediction\").toPandas()\n",
    "\n",
    "# use classification_report from scikit-learn to generate report.\n",
    "print(classification_report(y_true, y_pred))\n"
   ]
  },
  {
   "cell_type": "code",
   "execution_count": 12,
   "metadata": {},
   "outputs": [
    {
     "name": "stderr",
     "output_type": "stream",
     "text": [
      "                                                                                \r"
     ]
    },
    {
     "name": "stdout",
     "output_type": "stream",
     "text": [
      "Area under ROC curve: 0.9999998930162277\n"
     ]
    },
    {
     "name": "stderr",
     "output_type": "stream",
     "text": [
      "/home/ubuntu/spark-3.2.1-bin-hadoop2.7/python/pyspark/sql/context.py:125: FutureWarning: Deprecated in 3.0.0. Use SparkSession.builder.getOrCreate() instead.\n",
      "  warnings.warn(\n",
      "                                                                                \r"
     ]
    },
    {
     "data": {
      "image/png": "[encoded data removed]",
      "text/plain": [
       "<Figure size 576x432 with 1 Axes>"
      ]
     },
     "metadata": {
      "needs_background": "light"
     },
     "output_type": "display_data"
    }
   ],
   "source": [
    "# 8.4 evaluate model \n",
    "from pyspark.ml.evaluation import BinaryClassificationEvaluator\n",
    "from pyspark.mllib.evaluation import BinaryClassificationMetrics\n",
    "import matplotlib.pyplot as plt\n",
    "\n",
    "# Evaluate model\n",
    "evaluator = BinaryClassificationEvaluator(rawPredictionCol=\"rawPrediction\", labelCol=\"Heart_Disease\")\n",
    "roc_auc = evaluator.evaluate(results, {evaluator.metricName: \"areaUnderROC\"})\n",
    "print(f\"Area under ROC curve: {roc_auc}\")\n",
    "\n",
    "# Get FPR and TPR\n",
    "results_rdd = results.select(['probability', 'Heart_Disease']) \\\n",
    "    .rdd.map(lambda row: (float(row['probability'][1]), float(row['Heart_Disease'])))\n",
    "metrics = BinaryClassificationMetrics(results_rdd)\n",
    "\n",
    "fpr = dict()\n",
    "tpr = dict()\n",
    "roc_auc = dict()\n",
    "\n",
    "y_test = results.select('Heart_Disease').rdd.flatMap(lambda x: x).collect()\n",
    "y_score = results.select('probability').rdd.map(lambda x: x['probability'][1]).collect()\n",
    "\n",
    "from sklearn.metrics import roc_curve, auc\n",
    "\n",
    "fpr, tpr, _ = roc_curve(y_test, y_score)\n",
    "roc_auc = auc(fpr, tpr)\n",
    "\n",
    "# drow ROC\n",
    "plt.figure(figsize=(8, 6))\n",
    "plt.plot(fpr, tpr, color='darkorange', label='ROC curve (area = %0.2f)' % roc_auc)\n",
    "plt.plot([0, 1], [0, 1], color='navy', linestyle='--')\n",
    "plt.xlim([0.0, 1.0])\n",
    "plt.ylim([0.0, 1.05])\n",
    "plt.xlabel('False Positive Rate')\n",
    "plt.ylabel('True Positive Rate')\n",
    "plt.title('Logistic Regression ROC Curve')\n",
    "plt.legend(loc=\"lower right\")\n",
    "plt.show()\n"
   ]
  },
  {
   "cell_type": "code",
   "execution_count": 13,
   "metadata": {},
   "outputs": [
    {
     "data": {
      "text/plain": [
       "['General_Health',\n",
       " 'Checkup',\n",
       " 'Exercise',\n",
       " 'Heart_Disease',\n",
       " 'Skin_Cancer',\n",
       " 'Other_Cancer',\n",
       " 'Depression',\n",
       " 'Diabetes',\n",
       " 'Arthritis',\n",
       " 'Sex',\n",
       " 'Age_Category',\n",
       " 'Smoking_History',\n",
       " 'Health_Status',\n",
       " 'Alcohol_Consumption_Status',\n",
       " 'Fruit_Consumption_Status',\n",
       " 'FriedPotato_Consumption_Status',\n",
       " 'Green_Vegetables_Consumption_Status']"
      ]
     },
     "execution_count": 13,
     "metadata": {},
     "output_type": "execute_result"
    }
   ],
   "source": [
    "df_balanced.columns"
   ]
  },
  {
   "cell_type": "code",
   "execution_count": 14,
   "metadata": {},
   "outputs": [
    {
     "name": "stderr",
     "output_type": "stream",
     "text": [
      "/home/ubuntu/spark-3.2.1-bin-hadoop2.7/python/pyspark/sql/context.py:125: FutureWarning: Deprecated in 3.0.0. Use SparkSession.builder.getOrCreate() instead.\n",
      "  warnings.warn(\n",
      "[Stage 118:==========================================>              (3 + 1) / 4]\r"
     ]
    },
    {
     "name": "stdout",
     "output_type": "stream",
     "text": [
      "+-----------+--------------------+------------------+------------------+-------------------+\n",
      "| antecedent|          consequent|        confidence|              lift|            support|\n",
      "+-----------+--------------------+------------------+------------------+-------------------+\n",
      "|[Obese, No]|                 [1]|0.5454641461611575|1.0886995892735873| 0.2073214787460362|\n",
      "|[Obese, No]|[Low Green Vegeta...|0.8928081106769459|1.0059713014764367| 0.3393409063541123|\n",
      "|[Obese, No]|[Low Fruit Consum...|0.7754778751716126|1.0302074496960691|  0.294745715088508|\n",
      "|[Obese, No]|[Low Fried Potato...|0.8544724891752032|1.0260753921298453| 0.3247702002970337|\n",
      "|[Obese, No]|[Zero Alcohol Con...|0.5624141936846552|1.0853156318563761|0.21376389836631476|\n",
      "+-----------+--------------------+------------------+------------------+-------------------+\n",
      "only showing top 5 rows\n",
      "\n"
     ]
    },
    {
     "name": "stderr",
     "output_type": "stream",
     "text": [
      "                                                                                \r"
     ]
    }
   ],
   "source": [
    "from pyspark.ml.fpm import FPGrowth\n",
    "from pyspark.sql.functions import array, array_distinct\n",
    "from pyspark.sql import functions as F\n",
    "\n",
    "df_as_list = df_balanced.withColumn(\"items\", array(\n",
    " df_balanced.columns\n",
    "  ))\n",
    "# Remove duplicates from the array\n",
    "df_as_list = df_as_list.withColumn(\"items\", array_distinct(\"items\"))\n",
    "\n",
    "df_as_list = df_as_list.select(\"items\")\n",
    "\n",
    "fpGrowth = FPGrowth(itemsCol=\"items\", minSupport=0.1, minConfidence=0.5)\n",
    "\n",
    "model = fpGrowth.fit(df_as_list)\n",
    "\n",
    "model.associationRules.show(5)\n",
    "\n"
   ]
  },
  {
   "cell_type": "code",
   "execution_count": 15,
   "metadata": {},
   "outputs": [
    {
     "name": "stdout",
     "output_type": "stream",
     "text": [
      "+--------------------+----------+------------------+------------------+-------------------+\n",
      "|          antecedent|consequent|        confidence|              lift|            support|\n",
      "+--------------------+----------+------------------+------------------+-------------------+\n",
      "|[Fair, Within the...|       [1]|0.7534942820838628| 1.503909874183246| 0.1071127523782764|\n",
      "|[Fair, Within the...|       [1]|0.7534304710708728| 1.503782512881642| 0.1068919841046843|\n",
      "|[Fair, Within the...|       [1]|0.7527398103681813|1.5024040134355472| 0.1226869505880464|\n",
      "|[Fair, Within the...|       [1]|0.7526523562792993|1.5022294625850172|0.12244611247140047|\n",
      "|[Fair, Within the...|       [1]|0.7503459728757266| 1.497626119392163|0.10881868903785172|\n",
      "+--------------------+----------+------------------+------------------+-------------------+\n",
      "\n",
      "+--------------------+----------+------------------+------------------+-------------------+\n",
      "|          antecedent|consequent|        confidence|              lift|            support|\n",
      "+--------------------+----------+------------------+------------------+-------------------+\n",
      "|[Very Good, Low F...|       [0]|0.6675375021068599| 1.337813674683308|0.15897322682936618|\n",
      "|[Very Good, Low F...|       [0]|0.6674250084260196| 1.337588225799809|0.15897322682936618|\n",
      "|[Very Good, Low F...|       [0]|0.6649983316649983|1.3327249164805812|0.11999759161883354|\n",
      "|[Very Good, Low F...|       [0]|0.6648504392305126|1.3324285248612147|0.11999759161883354|\n",
      "|[Very Good, Low F...|       [0]|0.6643183897529734|1.3313622430951515|0.14572713041384017|\n",
      "+--------------------+----------+------------------+------------------+-------------------+\n",
      "\n"
     ]
    }
   ],
   "source": [
    "from pyspark.sql.functions import array, desc\n",
    "\n",
    "filtered_rules_1 = model.associationRules.filter(F.expr(\"array_contains(consequent, '1')\")).orderBy(desc(\"confidence\")).limit(5)\n",
    "filtered_rules_1.show()\n",
    "filtered_rules_0 = model.associationRules.filter(F.expr(\"array_contains(consequent, '0')\")).orderBy(desc(\"confidence\")).limit(5)\n",
    "filtered_rules_0.show()\n"
   ]
  }
 ],
 "metadata": {
  "kernelspec": {
   "display_name": "Python 3 (ipykernel)",
   "language": "python",
   "name": "python3"
  },
  "language_info": {
   "codemirror_mode": {
    "name": "ipython",
    "version": 3
   },
   "file_extension": ".py",
   "mimetype": "text/x-python",
   "name": "python",
   "nbconvert_exporter": "python",
   "pygments_lexer": "ipython3",
   "version": "3.10.12"
  }
 },
 "nbformat": 4,
 "nbformat_minor": 2
}
