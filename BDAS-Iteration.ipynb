{
 "cells": [
  {
   "cell_type": "code",
   "execution_count": 1,
   "metadata": {},
   "outputs": [
    {
     "name": "stderr",
     "output_type": "stream",
     "text": [
      "WARNING: An illegal reflective access operation has occurred\n",
      "WARNING: Illegal reflective access by org.apache.spark.unsafe.Platform (file:/home/ubuntu/spark-3.2.1-bin-hadoop2.7/jars/spark-unsafe_2.12-3.2.1.jar) to constructor java.nio.DirectByteBuffer(long,int)\n",
      "WARNING: Please consider reporting this to the maintainers of org.apache.spark.unsafe.Platform\n",
      "WARNING: Use --illegal-access=warn to enable warnings of further illegal reflective access operations\n",
      "WARNING: All illegal access operations will be denied in a future release\n",
      "Using Spark's default log4j profile: org/apache/spark/log4j-defaults.properties\n",
      "Setting default log level to \"WARN\".\n",
      "To adjust logging level use sc.setLogLevel(newLevel). For SparkR, use setLogLevel(newLevel).\n",
      "23/10/08 08:02:28 WARN NativeCodeLoader: Unable to load native-hadoop library for your platform... using builtin-java classes where applicable\n"
     ]
    }
   ],
   "source": [
    "import findspark\n",
    "findspark.init('/home/ubuntu/spark-3.2.1-bin-hadoop2.7')\n",
    "import pyspark\n",
    "from pyspark.sql import SparkSession\n",
    "spark = SparkSession.builder.appName('basics').getOrCreate()"
   ]
  },
  {
   "cell_type": "code",
   "execution_count": 2,
   "metadata": {},
   "outputs": [
    {
     "name": "stderr",
     "output_type": "stream",
     "text": [
      "                                                                                \r"
     ]
    }
   ],
   "source": [
    "spark_df = spark.read.csv('Database/CardiovascularDisease/CVD_unclean.csv', header=True)"
   ]
  },
  {
   "cell_type": "code",
   "execution_count": 3,
   "metadata": {},
   "outputs": [
    {
     "name": "stdout",
     "output_type": "stream",
     "text": [
      "+--------------+--------------------+--------+-------------+-----------+------------+----------+--------+---------+------+------------+-----------+-----------+-----+---------------+-------------------+-----------------+----------------------------+-----------------------+\n",
      "|General_Health|             Checkup|Exercise|Heart_Disease|Skin_Cancer|Other_Cancer|Depression|Diabetes|Arthritis|   Sex|Age_Category|Height_(cm)|Weight_(kg)|  BMI|Smoking_History|Alcohol_Consumption|Fruit_Consumption|Green_Vegetables_Consumption|FriedPotato_Consumption|\n",
      "+--------------+--------------------+--------+-------------+-----------+------------+----------+--------+---------+------+------------+-----------+-----------+-----+---------------+-------------------+-----------------+----------------------------+-----------------------+\n",
      "|          Poor|Within the past 2...|      No|           No|         No|          No|        No|      No|      Yes|Female|       70-74|        150|      32.66|14.54|            Yes|                  0|               30|                          16|                     12|\n",
      "|     Very Good|Within the past year|      No|          Yes|         No|          No|        No|     Yes|       No|Female|       70-74|        165|      77.11|28.29|             No|                  0|               30|                           0|                      4|\n",
      "|     Very Good|Within the past year|     Yes|           No|         No|          No|        No|     Yes|       No|Female|       60-64|        163|      88.45|33.47|             No|                  4|               12|                           3|                     16|\n",
      "|          Poor|Within the past year|     Yes|          Yes|         No|          No|        No|     Yes|       No|  null|       75-79|        180|      93.44|28.73|             No|                  0|               30|                          30|                      8|\n",
      "|          Good|Within the past year|      No|           No|         No|          No|        No|      No|       No|  Male|         80+|        191|      88.45|24.37|            Yes|                  0|                8|                           4|                      0|\n",
      "+--------------+--------------------+--------+-------------+-----------+------------+----------+--------+---------+------+------------+-----------+-----------+-----+---------------+-------------------+-----------------+----------------------------+-----------------------+\n",
      "only showing top 5 rows\n",
      "\n"
     ]
    }
   ],
   "source": [
    "from pyspark.sql.functions import col\n",
    "\n",
    "spark_df = spark_df.withColumn(\"Alcohol_Consumption\", col(\"Alcohol_Consumption\").cast(\"int\"))\n",
    "spark_df = spark_df.withColumn(\"Height_(cm)\", col(\"Height_(cm)\").cast(\"int\"))\n",
    "spark_df = spark_df.withColumn(\"Weight_(kg)\", col(\"Weight_(kg)\").cast(\"float\"))\n",
    "spark_df = spark_df.withColumn(\"BMI\", col(\"BMI\").cast(\"float\"))\n",
    "spark_df = spark_df.withColumn(\"Height_(cm)\", col(\"Height_(cm)\").cast(\"int\"))\n",
    "spark_df = spark_df.withColumn(\"Fruit_Consumption\", col(\"Fruit_Consumption\").cast(\"int\"))\n",
    "spark_df = spark_df.withColumn(\"Green_Vegetables_Consumption\", col(\"Green_Vegetables_Consumption\").cast(\"int\"))\n",
    "spark_df = spark_df.withColumn(\"FriedPotato_Consumption\", col(\"FriedPotato_Consumption\").cast(\"int\"))\n",
    "\n",
    "spark_df.show(5)"
   ]
  },
  {
   "cell_type": "code",
   "execution_count": 4,
   "metadata": {},
   "outputs": [
    {
     "name": "stderr",
     "output_type": "stream",
     "text": [
      "[Stage 2:=============================>                             (1 + 1) / 2]\r"
     ]
    },
    {
     "name": "stdout",
     "output_type": "stream",
     "text": [
      "+--------------+-------+--------+-------------+-----------+------------+----------+--------+---------+---+------------+-----------+-----------+---+---------------+-------------------+-----------------+----------------------------+-----------------------+\n",
      "|General_Health|Checkup|Exercise|Heart_Disease|Skin_Cancer|Other_Cancer|Depression|Diabetes|Arthritis|Sex|Age_Category|Height_(cm)|Weight_(kg)|BMI|Smoking_History|Alcohol_Consumption|Fruit_Consumption|Green_Vegetables_Consumption|FriedPotato_Consumption|\n",
      "+--------------+-------+--------+-------------+-----------+------------+----------+--------+---------+---+------------+-----------+-----------+---+---------------+-------------------+-----------------+----------------------------+-----------------------+\n",
      "|             0|      0|       0|            0|          0|           0|         0|       0|        0|  0|           0|          0|          0|  0|              0|                  0|                0|                           0|                      0|\n",
      "+--------------+-------+--------+-------------+-----------+------------+----------+--------+---------+---+------------+-----------+-----------+---+---------------+-------------------+-----------------+----------------------------+-----------------------+\n",
      "\n"
     ]
    },
    {
     "name": "stderr",
     "output_type": "stream",
     "text": [
      "                                                                                \r"
     ]
    }
   ],
   "source": [
    "from pyspark.sql.functions import col, sum\n",
    "spark_cleaned_df = spark_df.na.drop()\n",
    "null_counts = spark_cleaned_df.select([sum(col(c).isNull().cast(\"int\")).alias(c) for c in spark_cleaned_df.columns])\n",
    "\n",
    "null_counts.show()"
   ]
  },
  {
   "cell_type": "code",
   "execution_count": 5,
   "metadata": {},
   "outputs": [
    {
     "name": "stdout",
     "output_type": "stream",
     "text": [
      "+--------------+--------------------+--------+-------------+-----------+------------+----------+--------+---------+------+------------+-----------+-----------+-----+---------------+-------------------+-----------------+----------------------------+-----------------------+-------------+--------------------------+------------------------+------------------------------+-----------------------------------+\n",
      "|General_Health|             Checkup|Exercise|Heart_Disease|Skin_Cancer|Other_Cancer|Depression|Diabetes|Arthritis|   Sex|Age_Category|Height_(cm)|Weight_(kg)|  BMI|Smoking_History|Alcohol_Consumption|Fruit_Consumption|Green_Vegetables_Consumption|FriedPotato_Consumption|Health_Status|Alcohol_Consumption_Status|Fruit_Consumption_Status|FriedPotato_Consumption_Status|Green_Vegetables_Consumption_Status|\n",
      "+--------------+--------------------+--------+-------------+-----------+------------+----------+--------+---------+------+------------+-----------+-----------+-----+---------------+-------------------+-----------------+----------------------------+-----------------------+-------------+--------------------------+------------------------+------------------------------+-----------------------------------+\n",
      "|          Poor|Within the past 2...|      No|           No|         No|          No|        No|      No|      Yes|Female|       70-74|        150|      32.66|14.54|            Yes|                  0|               30|                          16|                     12|  Underweight|      Zero Alcohol Cons...|    Low Fruit Consump...|          Low Fried Potato ...|               Low Green Vegetab...|\n",
      "|     Very Good|Within the past year|      No|          Yes|         No|          No|        No|     Yes|       No|Female|       70-74|        165|      77.11|28.29|             No|                  0|               30|                           0|                      4|   Overweight|      Zero Alcohol Cons...|    Low Fruit Consump...|          Low Fried Potato ...|               Zero Green Vegeta...|\n",
      "|     Very Good|Within the past year|     Yes|           No|         No|          No|        No|     Yes|       No|Female|       60-64|        163|      88.45|33.47|             No|                  4|               12|                           3|                     16|        Obese|      Low Alcohol Consu...|    Low Fruit Consump...|          Low Fried Potato ...|               Low Green Vegetab...|\n",
      "|          Good|Within the past year|      No|           No|         No|          No|        No|      No|       No|  Male|         80+|        191|      88.45|24.37|            Yes|                  0|                8|                           4|                      0|       Normal|      Zero Alcohol Cons...|    Low Fruit Consump...|          Zero Fried Potato...|               Low Green Vegetab...|\n",
      "|          Good|Within the past year|      No|           No|         No|          No|       Yes|      No|      Yes|  Male|       60-64|        183|     154.22|46.11|             No|                  0|               12|                          12|                     12|        Obese|      Zero Alcohol Cons...|    Low Fruit Consump...|          Low Fried Potato ...|               Low Green Vegetab...|\n",
      "+--------------+--------------------+--------+-------------+-----------+------------+----------+--------+---------+------+------------+-----------+-----------+-----+---------------+-------------------+-----------------+----------------------------+-----------------------+-------------+--------------------------+------------------------+------------------------------+-----------------------------------+\n",
      "only showing top 5 rows\n",
      "\n"
     ]
    }
   ],
   "source": [
    "from pyspark.sql.functions import when, col\n",
    "\n",
    "# Construct the Health_Status\n",
    "spark_cleaned_constructed_df = spark_cleaned_df.withColumn(\n",
    "  'Health_Status',\n",
    "  when(col('BMI') < 18.5, \"Underweight\")\n",
    "  .when((col('BMI') >= 18.5) & (col('BMI') <= 24.9), \"Normal\")\n",
    "  .when((col('BMI') >= 25) & (col('BMI') <= 29.9), \"Overweight\")\n",
    "  .otherwise(\"Obese\")\n",
    ")\n",
    "\n",
    "\n",
    "# Construct the Alcohol_Consumption_Status\n",
    "spark_cleaned_constructed_df = spark_cleaned_constructed_df.withColumn(\n",
    "  'Alcohol_Consumption_Status',\n",
    "  when(col('Alcohol_Consumption') == 0 , \"Zero Alcohol Consumption\")\n",
    "  .when(col('Alcohol_Consumption') <= 7.5 , \"Low Alcohol Consumption\")\n",
    "  .when((col('Alcohol_Consumption') > 7.5) & (col('Alcohol_Consumption') <= 15),\"Medium Alcohol Consumption\")\n",
    "  .when((col('Alcohol_Consumption') > 15) & (col('Alcohol_Consumption') <= 22.5), \"High Alcohol Consumption\")\n",
    "  .otherwise(\"Excess Alcohol Consumption\")\n",
    ")\n",
    "\n",
    "# Construct the Fruit_Consumption_Status\n",
    "spark_cleaned_constructed_df = spark_cleaned_constructed_df.withColumn(\n",
    "  'Fruit_Consumption_Status',\n",
    "  when(col('Fruit_Consumption') == 0 , \"Zero Fruit Consumption\")\n",
    "  .when(col('Fruit_Consumption') <= 30 , \"Low Fruit Consumption\")\n",
    "  .when((col('Fruit_Consumption') > 30) & (col('Fruit_Consumption') <= 60),\"Medium Fruit Consumption\")\n",
    "  .when((col('Fruit_Consumption') > 60) & (col('Fruit_Consumption') <= 90), \"High Fruit Consumption\")\n",
    "  .otherwise(\"Excess Fruit Consumption\")\n",
    ")\n",
    "\n",
    "# Construct the FriedPotato_Consumption_Status\n",
    "spark_cleaned_constructed_df = spark_cleaned_constructed_df.withColumn(\n",
    "  'FriedPotato_Consumption_Status',\n",
    "  when(col('FriedPotato_Consumption') == 0 , \"Zero Fried Potato Consumption\")\n",
    "  .when(col('FriedPotato_Consumption') <= 30 , \"Low Fried Potato Consumption\")\n",
    "  .when((col('FriedPotato_Consumption') > 30) & (col('FriedPotato_Consumption') <= 60),\"Medium Fried Potato Consumption\")\n",
    "  .when((col('FriedPotato_Consumption') > 60) & (col('FriedPotato_Consumption') <= 90), \"High Fried Potato Consumption\")\n",
    "  .otherwise(\"Excess Fried Potato Consumption\")\n",
    ")\n",
    "\n",
    "# Construct the Green_Vegetables_Consumption_Status\n",
    "spark_cleaned_constructed_df = spark_cleaned_constructed_df.withColumn(\n",
    "  'Green_Vegetables_Consumption_Status',\n",
    "  when(col('Green_Vegetables_Consumption') == 0 , \"Zero Green Vegetable Consumption\")\n",
    "  .when(col('Green_Vegetables_Consumption') <= 30 , \"Low Green Vegetable Consumption\")\n",
    "  .when((col('Green_Vegetables_Consumption') > 30) & (col('Green_Vegetables_Consumption') <= 60),\"Medium Green Vegetable Consumption\")\n",
    "  .when((col('Green_Vegetables_Consumption') > 60) & (col('Green_Vegetables_Consumption') <= 90), \"High Green Vegetable Consumption\")\n",
    "  .otherwise(\"Excess Green Vegetable Consumption\")\n",
    ")\n",
    "\n",
    "spark_cleaned_constructed_df.show(5)"
   ]
  },
  {
   "cell_type": "code",
   "execution_count": 6,
   "metadata": {},
   "outputs": [
    {
     "name": "stdout",
     "output_type": "stream",
     "text": [
      "+--------------+--------------------+--------+-------------+-----------+------------+----------+--------+---------+------+------------+---------------+-----------------------+-------------+--------------------------+------------------------+-----------------------------------+\n",
      "|General_Health|             Checkup|Exercise|Heart_Disease|Skin_Cancer|Other_Cancer|Depression|Diabetes|Arthritis|   Sex|Age_Category|Smoking_History|FriedPotato_Consumption|Health_Status|Alcohol_Consumption_Status|Fruit_Consumption_Status|Green_Vegetables_Consumption_Status|\n",
      "+--------------+--------------------+--------+-------------+-----------+------------+----------+--------+---------+------+------------+---------------+-----------------------+-------------+--------------------------+------------------------+-----------------------------------+\n",
      "|          Poor|Within the past 2...|      No|           No|         No|          No|        No|      No|      Yes|Female|       70-74|            Yes|                     12|  Underweight|      Zero Alcohol Cons...|    Low Fruit Consump...|               Low Green Vegetab...|\n",
      "|     Very Good|Within the past year|      No|          Yes|         No|          No|        No|     Yes|       No|Female|       70-74|             No|                      4|   Overweight|      Zero Alcohol Cons...|    Low Fruit Consump...|               Zero Green Vegeta...|\n",
      "|     Very Good|Within the past year|     Yes|           No|         No|          No|        No|     Yes|       No|Female|       60-64|             No|                     16|        Obese|      Low Alcohol Consu...|    Low Fruit Consump...|               Low Green Vegetab...|\n",
      "|          Good|Within the past year|      No|           No|         No|          No|        No|      No|       No|  Male|         80+|            Yes|                      0|       Normal|      Zero Alcohol Cons...|    Low Fruit Consump...|               Low Green Vegetab...|\n",
      "|          Good|Within the past year|      No|           No|         No|          No|       Yes|      No|      Yes|  Male|       60-64|             No|                     12|        Obese|      Zero Alcohol Cons...|    Low Fruit Consump...|               Low Green Vegetab...|\n",
      "+--------------+--------------------+--------+-------------+-----------+------------+----------+--------+---------+------+------------+---------------+-----------------------+-------------+--------------------------+------------------------+-----------------------------------+\n",
      "only showing top 5 rows\n",
      "\n"
     ]
    }
   ],
   "source": [
    "# Drop useless variable\n",
    "\n",
    "# BMI is better than weight and height\n",
    "spark_cleaned_constructed_df = spark_cleaned_constructed_df.drop(col('Weight_(kg)'))\n",
    "spark_cleaned_constructed_df = spark_cleaned_constructed_df.drop(col('Height_(cm)'))\n",
    "\n",
    "spark_cleaned_constructed_df = spark_cleaned_constructed_df.drop(col('Alcohol_Consumption'))\n",
    "spark_cleaned_constructed_df = spark_cleaned_constructed_df.drop(col('BMI'))\n",
    "spark_cleaned_constructed_df = spark_cleaned_constructed_df.drop(col('Fruit_Consumption'))\n",
    "spark_cleaned_constructed_df = spark_cleaned_constructed_df.drop(col('FriedPotato_Consumption_Status'))\n",
    "spark_cleaned_constructed_df = spark_cleaned_constructed_df.drop(col('Green_Vegetables_Consumption'))\n",
    "\n",
    "spark_cleaned_constructed_df.show(5)"
   ]
  },
  {
   "cell_type": "code",
   "execution_count": 7,
   "metadata": {},
   "outputs": [
    {
     "name": "stderr",
     "output_type": "stream",
     "text": [
      "                                                                                \r"
     ]
    },
    {
     "data": {
      "text/plain": [
       "<AxesSubplot:ylabel='Heart_Disease'>"
      ]
     },
     "execution_count": 7,
     "metadata": {},
     "output_type": "execute_result"
    },
    {
     "data": {
      "image/png": "[encoded data removed]",
      "text/plain": [
       "<Figure size 432x288 with 1 Axes>"
      ]
     },
     "metadata": {},
     "output_type": "display_data"
    }
   ],
   "source": [
    "# under-sampling method \n",
    "count_class_0 = spark_cleaned_constructed_df.filter(spark_cleaned_constructed_df['Heart_Disease'] == \"Yes\").count()\n",
    "count_class_1 = spark_cleaned_constructed_df.filter(spark_cleaned_constructed_df['Heart_Disease'] == \"No\").count()\n",
    "\n",
    "\n",
    "fraction = count_class_0 / float(count_class_1)\n",
    "df_class_1_under = spark_cleaned_constructed_df.filter(spark_cleaned_constructed_df['Heart_Disease'] == \"No\").sample(False, fraction)\n",
    "df_balanced = df_class_1_under.unionAll(spark_cleaned_constructed_df.filter(spark_cleaned_constructed_df['Heart_Disease'] == \"Yes\"))\n",
    "\n",
    "df_balanced_pandas = df_balanced.toPandas()\n",
    "df_balanced_pandas['Heart_Disease'].value_counts().plot.pie()"
   ]
  },
  {
   "cell_type": "code",
   "execution_count": 8,
   "metadata": {},
   "outputs": [],
   "source": [
    "\n",
    "from pyspark.ml import Pipeline\n",
    "from pyspark.ml.feature import StringIndexer, OneHotEncoder, VectorAssembler\n",
    "# Label-encoding method for target variable\n",
    "df_balanced = df_balanced.withColumn(\"Heart_Disease_Encoded\", \n",
    "                   when(col(\"Heart_Disease\") == \"Yes\", 1)\n",
    "                   .when(col(\"Heart_Disease\") == \"No\", 0)\n",
    "                   .cast('int')\n",
    "                   )\n",
    "df_balanced = df_balanced.drop('Heart_Disease')\n",
    "\n",
    "# One-Hot encoding Method\n",
    "string_cols = [t[0] for t in df_balanced.dtypes if t[1] == 'string' and t[0] != 'Heart_Disease']\n",
    "\n",
    "indexers = [StringIndexer(inputCol=c, outputCol=c+\"_index\") for c in string_cols]\n",
    "encoders = [OneHotEncoder(inputCol=c+\"_index\", outputCol=c+\"_ohe\") for c in string_cols]\n",
    "\n",
    "ohe_cols = [col for col in df_balanced.columns if col.endswith(\"_ohe\")]\n",
    "\n",
    "assembler = VectorAssembler(inputCols=ohe_cols, outputCol=\"features\")\n",
    "\n",
    "\n"
   ]
  },
  {
   "cell_type": "code",
   "execution_count": 9,
   "metadata": {},
   "outputs": [
    {
     "name": "stdout",
     "output_type": "stream",
     "text": [
      "+--------------+--------------------+--------+-----------+------------+----------+--------------------+---------+------+------------+---------------+-----------------------+-------------+--------------------------+------------------------+-----------------------------------+---------------------+\n",
      "|General_Health|             Checkup|Exercise|Skin_Cancer|Other_Cancer|Depression|            Diabetes|Arthritis|   Sex|Age_Category|Smoking_History|FriedPotato_Consumption|Health_Status|Alcohol_Consumption_Status|Fruit_Consumption_Status|Green_Vegetables_Consumption_Status|Heart_Disease_Encoded|\n",
      "+--------------+--------------------+--------+-----------+------------+----------+--------------------+---------+------+------------+---------------+-----------------------+-------------+--------------------------+------------------------+-----------------------------------+---------------------+\n",
      "|          Good|Within the past year|      No|         No|          No|        No|                  No|       No|  Male|         80+|            Yes|                      0|       Normal|      Zero Alcohol Cons...|    Low Fruit Consump...|               Low Green Vegetab...|                    0|\n",
      "|          Fair|Within the past year|      No|         No|          No|        No|No, pre-diabetes ...|      Yes|Female|       70-74|             No|                      0|        Obese|      Zero Alcohol Cons...|    Low Fruit Consump...|               Low Green Vegetab...|                    0|\n",
      "|          Good|Within the past year|      No|        Yes|          No|        No|                  No|      Yes|Female|         80+|             No|                     12|   Overweight|      Zero Alcohol Cons...|    Low Fruit Consump...|               Low Green Vegetab...|                    0|\n",
      "|     Very Good|Within the past year|      No|         No|          No|        No|                  No|       No|Female|       60-64|            Yes|                      1|       Normal|      Zero Alcohol Cons...|    Low Fruit Consump...|               Low Green Vegetab...|                    0|\n",
      "|          Good| 5 or more years ago|     Yes|         No|          No|       Yes|                  No|      Yes|Female|       45-49|            Yes|                      1|   Overweight|      High Alcohol Cons...|    Low Fruit Consump...|               Zero Green Vegeta...|                    0|\n",
      "+--------------+--------------------+--------+-----------+------------+----------+--------------------+---------+------+------------+---------------+-----------------------+-------------+--------------------------+------------------------+-----------------------------------+---------------------+\n",
      "only showing top 5 rows\n",
      "\n"
     ]
    }
   ],
   "source": [
    "df_balanced.show(5)"
   ]
  },
  {
   "cell_type": "code",
   "execution_count": null,
   "metadata": {},
   "outputs": [],
   "source": []
  },
  {
   "cell_type": "code",
   "execution_count": 10,
   "metadata": {},
   "outputs": [
    {
     "data": {
      "text/plain": [
       "[]"
      ]
     },
     "execution_count": 10,
     "metadata": {},
     "output_type": "execute_result"
    }
   ],
   "source": [
    "ohe_cols"
   ]
  }
 ],
 "metadata": {
  "kernelspec": {
   "display_name": "Python 3 (ipykernel)",
   "language": "python",
   "name": "python3"
  },
  "language_info": {
   "codemirror_mode": {
    "name": "ipython",
    "version": 3
   },
   "file_extension": ".py",
   "mimetype": "text/x-python",
   "name": "python",
   "nbconvert_exporter": "python",
   "pygments_lexer": "ipython3",
   "version": "3.10.12"
  }
 },
 "nbformat": 4,
 "nbformat_minor": 2
}
