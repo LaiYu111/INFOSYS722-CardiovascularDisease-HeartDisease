{
 "cells": [
  {
   "cell_type": "code",
   "execution_count": 1,
   "metadata": {},
   "outputs": [
    {
     "name": "stderr",
     "output_type": "stream",
     "text": [
      "WARNING: An illegal reflective access operation has occurred\n",
      "WARNING: Illegal reflective access by org.apache.spark.unsafe.Platform (file:/home/ubuntu/spark-3.2.1-bin-hadoop2.7/jars/spark-unsafe_2.12-3.2.1.jar) to constructor java.nio.DirectByteBuffer(long,int)\n",
      "WARNING: Please consider reporting this to the maintainers of org.apache.spark.unsafe.Platform\n",
      "WARNING: Use --illegal-access=warn to enable warnings of further illegal reflective access operations\n",
      "WARNING: All illegal access operations will be denied in a future release\n",
      "Using Spark's default log4j profile: org/apache/spark/log4j-defaults.properties\n",
      "Setting default log level to \"WARN\".\n",
      "To adjust logging level use sc.setLogLevel(newLevel). For SparkR, use setLogLevel(newLevel).\n",
      "23/10/08 10:12:31 WARN NativeCodeLoader: Unable to load native-hadoop library for your platform... using builtin-java classes where applicable\n",
      "23/10/08 10:12:32 WARN Utils: Service 'SparkUI' could not bind on port 4040. Attempting port 4041.\n",
      "23/10/08 10:12:32 WARN Utils: Service 'SparkUI' could not bind on port 4041. Attempting port 4042.\n"
     ]
    }
   ],
   "source": [
    "import findspark\n",
    "findspark.init('/home/ubuntu/spark-3.2.1-bin-hadoop2.7')\n",
    "import pyspark\n",
    "from pyspark.sql import SparkSession\n",
    "spark = SparkSession.builder.appName('basics').getOrCreate()"
   ]
  },
  {
   "cell_type": "code",
   "execution_count": 2,
   "metadata": {},
   "outputs": [
    {
     "name": "stderr",
     "output_type": "stream",
     "text": [
      "                                                                                \r"
     ]
    }
   ],
   "source": [
    "spark_df = spark.read.csv('Database/CardiovascularDisease/CVD_cleaned.csv', header=True)"
   ]
  },
  {
   "cell_type": "code",
   "execution_count": 3,
   "metadata": {},
   "outputs": [
    {
     "name": "stdout",
     "output_type": "stream",
     "text": [
      "root\n",
      " |-- General_Health: string (nullable = true)\n",
      " |-- Checkup: string (nullable = true)\n",
      " |-- Exercise: string (nullable = true)\n",
      " |-- Heart_Disease: string (nullable = true)\n",
      " |-- Skin_Cancer: string (nullable = true)\n",
      " |-- Other_Cancer: string (nullable = true)\n",
      " |-- Depression: string (nullable = true)\n",
      " |-- Diabetes: string (nullable = true)\n",
      " |-- Arthritis: string (nullable = true)\n",
      " |-- Sex: string (nullable = true)\n",
      " |-- Age_Category: string (nullable = true)\n",
      " |-- Height_(cm): integer (nullable = true)\n",
      " |-- Weight_(kg): float (nullable = true)\n",
      " |-- BMI: float (nullable = true)\n",
      " |-- Smoking_History: string (nullable = true)\n",
      " |-- Alcohol_Consumption: integer (nullable = true)\n",
      " |-- Fruit_Consumption: integer (nullable = true)\n",
      " |-- Green_Vegetables_Consumption: integer (nullable = true)\n",
      " |-- FriedPotato_Consumption: integer (nullable = true)\n",
      "\n"
     ]
    }
   ],
   "source": [
    "# 2.2 Describe the data\n",
    "from pyspark.sql.functions import col\n",
    "\n",
    "spark_df = spark_df.withColumn(\"Alcohol_Consumption\", col(\"Alcohol_Consumption\").cast(\"int\"))\n",
    "spark_df = spark_df.withColumn(\"Height_(cm)\", col(\"Height_(cm)\").cast(\"int\"))\n",
    "spark_df = spark_df.withColumn(\"Weight_(kg)\", col(\"Weight_(kg)\").cast(\"float\"))\n",
    "spark_df = spark_df.withColumn(\"BMI\", col(\"BMI\").cast(\"float\"))\n",
    "spark_df = spark_df.withColumn(\"Height_(cm)\", col(\"Height_(cm)\").cast(\"int\"))\n",
    "spark_df = spark_df.withColumn(\"Fruit_Consumption\", col(\"Fruit_Consumption\").cast(\"int\"))\n",
    "spark_df = spark_df.withColumn(\"Green_Vegetables_Consumption\", col(\"Green_Vegetables_Consumption\").cast(\"int\"))\n",
    "spark_df = spark_df.withColumn(\"FriedPotato_Consumption\", col(\"FriedPotato_Consumption\").cast(\"int\"))\n",
    "\n",
    "\n",
    "spark_df.printSchema()"
   ]
  },
  {
   "cell_type": "code",
   "execution_count": 4,
   "metadata": {},
   "outputs": [
    {
     "name": "stderr",
     "output_type": "stream",
     "text": [
      "                                                                                \r"
     ]
    },
    {
     "data": {
      "text/plain": [
       "308854"
      ]
     },
     "execution_count": 4,
     "metadata": {},
     "output_type": "execute_result"
    }
   ],
   "source": [
    "spark_df.count()"
   ]
  },
  {
   "cell_type": "code",
   "execution_count": 5,
   "metadata": {},
   "outputs": [
    {
     "name": "stderr",
     "output_type": "stream",
     "text": [
      "No artists with labels found to put in legend.  Note that artists whose label start with an underscore are ignored when legend() is called with no argument.\n"
     ]
    },
    {
     "data": {
      "image/png": "[encoded data removed]",
      "text/plain": [
       "<Figure size 432x288 with 1 Axes>"
      ]
     },
     "metadata": {
      "needs_background": "light"
     },
     "output_type": "display_data"
    }
   ],
   "source": [
    "# 2.3 Explore the data\n",
    "import matplotlib.pyplot as plt \n",
    "import pandas as pd\n",
    "\n",
    "pandas_df = spark_df.toPandas()\n",
    "# Heart Disease\n",
    "unique_values_Heart_Disease = pandas_df['Heart_Disease'].unique()\n",
    "count_values_Heart_Disease = pandas_df['Heart_Disease'].value_counts()\n",
    "proportion_values_Heart_Disease = pandas_df['Heart_Disease'].value_counts(normalize=True)\n",
    "\n",
    "# unique_values_Heart_Disease\n",
    "from utilities import bar_plot\n",
    "bar_plot(variables=unique_values_Heart_Disease, data=proportion_values_Heart_Disease, title=\"Distribution of Heart Disease\", ylabel=\"Proportion\", xlabel=\"Categories\")"
   ]
  },
  {
   "cell_type": "code",
   "execution_count": 6,
   "metadata": {},
   "outputs": [
    {
     "name": "stderr",
     "output_type": "stream",
     "text": [
      "No artists with labels found to put in legend.  Note that artists whose label start with an underscore are ignored when legend() is called with no argument.\n"
     ]
    },
    {
     "data": {
      "image/png": "[encoded data removed]",
      "text/plain": [
       "<Figure size 432x288 with 1 Axes>"
      ]
     },
     "metadata": {
      "needs_background": "light"
     },
     "output_type": "display_data"
    }
   ],
   "source": [
    "# Age_Category\n",
    "unique_values_Age_Category = pandas_df['Age_Category'].unique()\n",
    "count_values_Age_Category = pandas_df['Age_Category'].value_counts()\n",
    "proportion_values_Age_Category = pandas_df['Age_Category'].value_counts(normalize=True)\n",
    "\n",
    "bar_plot(variables=unique_values_Age_Category, data=proportion_values_Age_Category, title=\"Distribution of Age_Category\", ylabel=\"Proportion\", xlabel=\"Categories\")"
   ]
  },
  {
   "cell_type": "code",
   "execution_count": 7,
   "metadata": {},
   "outputs": [
    {
     "name": "stderr",
     "output_type": "stream",
     "text": [
      "No artists with labels found to put in legend.  Note that artists whose label start with an underscore are ignored when legend() is called with no argument.\n"
     ]
    },
    {
     "data": {
      "image/png": "[encoded data removed]",
      "text/plain": [
       "<Figure size 432x288 with 1 Axes>"
      ]
     },
     "metadata": {
      "needs_background": "light"
     },
     "output_type": "display_data"
    }
   ],
   "source": [
    "# Diabetes\n",
    "unique_values_Diabetes = pandas_df['Diabetes'].unique()\n",
    "count_values_Diabetes = pandas_df['Diabetes'].value_counts()\n",
    "proportion_values_Diabetes = pandas_df['Diabetes'].value_counts(normalize=True)\n",
    "\n",
    "bar_plot(variables=unique_values_Diabetes, data=proportion_values_Diabetes, title=\"Distribution of Diabetes\", ylabel=\"Proportion\", xlabel=\"Categories\")"
   ]
  },
  {
   "cell_type": "code",
   "execution_count": 8,
   "metadata": {},
   "outputs": [
    {
     "name": "stderr",
     "output_type": "stream",
     "text": [
      "No artists with labels found to put in legend.  Note that artists whose label start with an underscore are ignored when legend() is called with no argument.\n"
     ]
    },
    {
     "data": {
      "image/png": "[encoded data removed]",
      "text/plain": [
       "<Figure size 432x288 with 1 Axes>"
      ]
     },
     "metadata": {
      "needs_background": "light"
     },
     "output_type": "display_data"
    }
   ],
   "source": [
    "# Sex\n",
    "unique_values_Sex = pandas_df['Sex'].unique()\n",
    "count_values_Sex = pandas_df['Sex'].value_counts()\n",
    "proportion_values_Sex = pandas_df['Sex'].value_counts(normalize=True)\n",
    "\n",
    "bar_plot(variables=unique_values_Sex, data=proportion_values_Sex, title=\"Distribution of Sex\", ylabel=\"Proportion\", xlabel=\"Categories\")"
   ]
  },
  {
   "cell_type": "code",
   "execution_count": 9,
   "metadata": {},
   "outputs": [
    {
     "data": {
      "image/png": "[encoded data removed]",
      "text/plain": [
       "<Figure size 432x288 with 1 Axes>"
      ]
     },
     "metadata": {
      "needs_background": "light"
     },
     "output_type": "display_data"
    }
   ],
   "source": [
    "# BMI\n",
    "BMI = pandas_df['BMI']\n",
    "\n",
    "BMI.hist()\n",
    "plt.title('Distribution of BMI')\n",
    "plt.ylabel('Count')\n",
    "plt.xlabel('BMI')\n",
    "plt.show()"
   ]
  },
  {
   "cell_type": "code",
   "execution_count": 10,
   "metadata": {},
   "outputs": [
    {
     "data": {
      "image/png": "[encoded data removed]",
      "text/plain": [
       "<Figure size 432x288 with 1 Axes>"
      ]
     },
     "metadata": {
      "needs_background": "light"
     },
     "output_type": "display_data"
    }
   ],
   "source": [
    "# Alcohol_Consumption\n",
    "Alcohol_Consumption = pandas_df['Alcohol_Consumption']\n",
    "\n",
    "Alcohol_Consumption.hist()\n",
    "plt.title('Distribution of Alcohol_Consumption')\n",
    "plt.ylabel('Count')\n",
    "plt.xlabel('Alcohol_Consumption')\n",
    "plt.show()"
   ]
  },
  {
   "cell_type": "code",
   "execution_count": 11,
   "metadata": {},
   "outputs": [
    {
     "data": {
      "image/png": "[encoded data removed]",
      "text/plain": [
       "<Figure size 432x288 with 1 Axes>"
      ]
     },
     "metadata": {
      "needs_background": "light"
     },
     "output_type": "display_data"
    }
   ],
   "source": [
    "# Fruit_Consumption\n",
    "Fruit_Consumption = pandas_df['Fruit_Consumption']\n",
    "\n",
    "Fruit_Consumption.hist()\n",
    "plt.title('Distribution of Fruit_Consumption')\n",
    "plt.ylabel('Count')\n",
    "plt.xlabel('Fruit_Consumption')\n",
    "plt.show()"
   ]
  },
  {
   "cell_type": "code",
   "execution_count": 12,
   "metadata": {},
   "outputs": [
    {
     "data": {
      "text/plain": [
       "General_Health                  0\n",
       "Checkup                         0\n",
       "Exercise                        0\n",
       "Heart_Disease                   0\n",
       "Skin_Cancer                     0\n",
       "Other_Cancer                    0\n",
       "Depression                      0\n",
       "Diabetes                        0\n",
       "Arthritis                       0\n",
       "Sex                             0\n",
       "Age_Category                    0\n",
       "Height_(cm)                     0\n",
       "Weight_(kg)                     0\n",
       "BMI                             0\n",
       "Smoking_History                 0\n",
       "Alcohol_Consumption             0\n",
       "Fruit_Consumption               0\n",
       "Green_Vegetables_Consumption    0\n",
       "FriedPotato_Consumption         0\n",
       "dtype: int64"
      ]
     },
     "execution_count": 12,
     "metadata": {},
     "output_type": "execute_result"
    }
   ],
   "source": [
    "# 2.4 verify the data quality\n",
    "\n",
    "# Check the null value\n",
    "pandas_df.isna().sum()"
   ]
  },
  {
   "cell_type": "code",
   "execution_count": 13,
   "metadata": {},
   "outputs": [
    {
     "name": "stdout",
     "output_type": "stream",
     "text": [
      "CVD_uncleaned.csv existed.\n"
     ]
    }
   ],
   "source": [
    "import os\n",
    "import random\n",
    "# generate unclean CVD dataset\n",
    "if os.path.exists('./Database/CardiovascularDisease/CVD_unclean.csv'):\n",
    "      print(\"CVD_uncleaned.csv existed.\")\n",
    "else:\n",
    "    cvd_cleaned_data_df = pd.read_csv('./Database/CardiovascularDisease/CVD_cleaned.csv')\n",
    "    error_data = {}\n",
    "    missing_value = np.nan\n",
    "    row = cvd_cleaned_data_df.shape[0]\n",
    "    column = cvd_cleaned_data_df.shape[1]\n",
    "\n",
    "    # there are 308854 * 19 data and each data 1/10000 * 1/6 chance that it will become a missing value.\n",
    "    for r in range(row):\n",
    "        num = random.randint(1, 10000)  # 1/10000 chance to select a target row\n",
    "        if num == 1:\n",
    "            for key, value in error_data.items():\n",
    "                if random.randint(1, 6) == 1:  # 1/6 chance to add a missing value to a target cell\n",
    "                    cvd_cleaned_data_df.loc[r, key] = missing_value\n",
    "\n",
    "    cvd_cleaned_data_df.to_csv(\"./Database/CardiovascularDisease/CVD_unclean.csv\", index=False)\n",
    "    print(\"finished\")"
   ]
  },
  {
   "cell_type": "code",
   "execution_count": 14,
   "metadata": {},
   "outputs": [],
   "source": [
    "spark_unclean_df = spark.read.csv('Database/CardiovascularDisease/CVD_unclean.csv', header=True)"
   ]
  },
  {
   "cell_type": "code",
   "execution_count": 15,
   "metadata": {},
   "outputs": [
    {
     "name": "stderr",
     "output_type": "stream",
     "text": [
      "[Stage 6:=============================>                             (1 + 1) / 2]\r"
     ]
    },
    {
     "name": "stdout",
     "output_type": "stream",
     "text": [
      "+--------------+-------+--------+-------------+-----------+------------+----------+--------+---------+---+------------+-----------+-----------+---+---------------+-------------------+-----------------+----------------------------+-----------------------+\n",
      "|General_Health|Checkup|Exercise|Heart_Disease|Skin_Cancer|Other_Cancer|Depression|Diabetes|Arthritis|Sex|Age_Category|Height_(cm)|Weight_(kg)|BMI|Smoking_History|Alcohol_Consumption|Fruit_Consumption|Green_Vegetables_Consumption|FriedPotato_Consumption|\n",
      "+--------------+-------+--------+-------------+-----------+------------+----------+--------+---------+---+------------+-----------+-----------+---+---------------+-------------------+-----------------+----------------------------+-----------------------+\n",
      "|            21|     23|      13|           28|         30|          22|        22|      18|       28| 17|          23|         23|         28| 23|             21|                 26|               22|                          16|                     17|\n",
      "+--------------+-------+--------+-------------+-----------+------------+----------+--------+---------+---+------------+-----------+-----------+---+---------------+-------------------+-----------------+----------------------------+-----------------------+\n",
      "\n"
     ]
    },
    {
     "name": "stderr",
     "output_type": "stream",
     "text": [
      "                                                                                \r"
     ]
    }
   ],
   "source": [
    "# check the total null values\n",
    "\n",
    "from pyspark.sql.functions import col, sum\n",
    "null_counts = spark_unclean_df.select([sum(col(c).isNull().cast(\"int\")).alias(c) for c in spark_unclean_df.columns])\n",
    "\n",
    "null_counts.show()\n"
   ]
  },
  {
   "cell_type": "code",
   "execution_count": 16,
   "metadata": {},
   "outputs": [
    {
     "name": "stderr",
     "output_type": "stream",
     "text": [
      "                                                                                \r"
     ]
    },
    {
     "data": {
      "image/png": "[encoded data removed]",
      "text/plain": [
       "<Figure size 432x288 with 1 Axes>"
      ]
     },
     "metadata": {
      "needs_background": "light"
     },
     "output_type": "display_data"
    }
   ],
   "source": [
    "import seaborn as sns \n",
    "spark_unclean_df = spark_unclean_df.withColumn(\"Alcohol_Consumption\", col(\"Alcohol_Consumption\").cast(\"int\"))\n",
    "spark_unclean_df = spark_unclean_df.withColumn(\"Height_(cm)\", col(\"Height_(cm)\").cast(\"int\"))\n",
    "spark_unclean_df = spark_unclean_df.withColumn(\"Weight_(kg)\", col(\"Weight_(kg)\").cast(\"float\"))\n",
    "spark_unclean_df = spark_unclean_df.withColumn(\"BMI\", col(\"BMI\").cast(\"float\"))\n",
    "spark_unclean_df = spark_unclean_df.withColumn(\"Height_(cm)\", col(\"Height_(cm)\").cast(\"int\"))\n",
    "spark_unclean_df = spark_unclean_df.withColumn(\"Fruit_Consumption\", col(\"Fruit_Consumption\").cast(\"int\"))\n",
    "spark_unclean_df = spark_unclean_df.withColumn(\"Green_Vegetables_Consumption\", col(\"Green_Vegetables_Consumption\").cast(\"int\"))\n",
    "spark_unclean_df = spark_unclean_df.withColumn(\"FriedPotato_Consumption\", col(\"FriedPotato_Consumption\").cast(\"int\"))\n",
    "\n",
    "pandas_unclean_df = spark_unclean_df.toPandas()\n",
    "\n",
    "sns.boxplot(data=pandas_unclean_df)\n",
    "plt.title('Distribution of all continuous variables')\n",
    "plt.xticks(rotation=30)\n",
    "plt.show()"
   ]
  },
  {
   "cell_type": "code",
   "execution_count": 17,
   "metadata": {},
   "outputs": [],
   "source": [
    "# 3.0 Data preparation\n",
    "\n",
    "# 3.1 Select the data\n",
    "from pyspark.sql.functions import col\n",
    "\n",
    "target_variable = spark_unclean_df.select('Heart_Disease')\n",
    "predictor_variables = spark_unclean_df.select(col('Diabetes'),col('Sex'),col('Age_Category'),\n",
    "                                              col('BMI'),col('Alcohol_Consumption'),col('Fruit_Consumption'))\n"
   ]
  },
  {
   "cell_type": "code",
   "execution_count": 18,
   "metadata": {},
   "outputs": [
    {
     "name": "stdout",
     "output_type": "stream",
     "text": [
      "+--------+------+------------+-----+-------------------+-----------------+\n",
      "|Diabetes|   Sex|Age_Category|  BMI|Alcohol_Consumption|Fruit_Consumption|\n",
      "+--------+------+------------+-----+-------------------+-----------------+\n",
      "|      No|Female|       70-74|14.54|                  0|               30|\n",
      "|     Yes|Female|       70-74|28.29|                  0|               30|\n",
      "|     Yes|Female|       60-64|33.47|                  4|               12|\n",
      "|     Yes|  null|       75-79|28.73|                  0|               30|\n",
      "|      No|  Male|         80+|24.37|                  0|                8|\n",
      "+--------+------+------------+-----+-------------------+-----------------+\n",
      "only showing top 5 rows\n",
      "\n"
     ]
    }
   ],
   "source": [
    "predictor_variables.show(5)"
   ]
  },
  {
   "cell_type": "code",
   "execution_count": 19,
   "metadata": {},
   "outputs": [
    {
     "name": "stdout",
     "output_type": "stream",
     "text": [
      "+-------------+\n",
      "|Heart_Disease|\n",
      "+-------------+\n",
      "|           No|\n",
      "|          Yes|\n",
      "|           No|\n",
      "|          Yes|\n",
      "|           No|\n",
      "+-------------+\n",
      "only showing top 5 rows\n",
      "\n"
     ]
    }
   ],
   "source": [
    "target_variable.show(5)"
   ]
  },
  {
   "cell_type": "code",
   "execution_count": 20,
   "metadata": {},
   "outputs": [],
   "source": [
    "# 3.2 Clean the data - null/missing values\n",
    "\n",
    "spark_cleaned_df = spark_unclean_df.na.drop()"
   ]
  },
  {
   "cell_type": "code",
   "execution_count": 21,
   "metadata": {},
   "outputs": [
    {
     "name": "stderr",
     "output_type": "stream",
     "text": [
      "[Stage 12:=============================>                            (1 + 1) / 2]\r"
     ]
    },
    {
     "name": "stdout",
     "output_type": "stream",
     "text": [
      "+--------------+-------+--------+-------------+-----------+------------+----------+--------+---------+---+------------+-----------+-----------+---+---------------+-------------------+-----------------+----------------------------+-----------------------+\n",
      "|General_Health|Checkup|Exercise|Heart_Disease|Skin_Cancer|Other_Cancer|Depression|Diabetes|Arthritis|Sex|Age_Category|Height_(cm)|Weight_(kg)|BMI|Smoking_History|Alcohol_Consumption|Fruit_Consumption|Green_Vegetables_Consumption|FriedPotato_Consumption|\n",
      "+--------------+-------+--------+-------------+-----------+------------+----------+--------+---------+---+------------+-----------+-----------+---+---------------+-------------------+-----------------+----------------------------+-----------------------+\n",
      "|             0|      0|       0|            0|          0|           0|         0|       0|        0|  0|           0|          0|          0|  0|              0|                  0|                0|                           0|                      0|\n",
      "+--------------+-------+--------+-------------+-----------+------------+----------+--------+---------+---+------------+-----------+-----------+---+---------------+-------------------+-----------------+----------------------------+-----------------------+\n",
      "\n"
     ]
    },
    {
     "name": "stderr",
     "output_type": "stream",
     "text": [
      "                                                                                \r"
     ]
    }
   ],
   "source": [
    "from pyspark.sql.functions import col, sum\n",
    "null_counts = spark_cleaned_df.select([sum(col(c).isNull().cast(\"int\")).alias(c) for c in spark_unclean_df.columns])\n",
    "\n",
    "null_counts.show()"
   ]
  },
  {
   "cell_type": "code",
   "execution_count": 22,
   "metadata": {},
   "outputs": [
    {
     "name": "stderr",
     "output_type": "stream",
     "text": [
      "[Stage 15:=============================>                            (1 + 1) / 2]\r"
     ]
    },
    {
     "name": "stdout",
     "output_type": "stream",
     "text": [
      "shape (308726, 19)\n"
     ]
    },
    {
     "name": "stderr",
     "output_type": "stream",
     "text": [
      "                                                                                \r"
     ]
    }
   ],
   "source": [
    "num_rows = spark_cleaned_df.count()\n",
    "num_cols = len(spark_cleaned_df.columns)\n",
    "\n",
    "print(\"shape ({}, {})\".format(num_rows, num_cols) )"
   ]
  },
  {
   "cell_type": "code",
   "execution_count": 23,
   "metadata": {},
   "outputs": [
    {
     "name": "stdout",
     "output_type": "stream",
     "text": [
      "+--------+------+------------+-----+-------------------+-----------------+-------------+\n",
      "|Diabetes|   Sex|Age_Category|  BMI|Alcohol_Consumption|Fruit_Consumption|Heart_Disease|\n",
      "+--------+------+------------+-----+-------------------+-----------------+-------------+\n",
      "|      No|Female|       70-74|14.54|                  0|               30|           No|\n",
      "|     Yes|Female|       70-74|28.29|                  0|               30|          Yes|\n",
      "|     Yes|Female|       60-64|33.47|                  4|               12|           No|\n",
      "|      No|  Male|         80+|24.37|                  0|                8|           No|\n",
      "|      No|  Male|       60-64|46.11|                  0|               12|           No|\n",
      "+--------+------+------------+-----+-------------------+-----------------+-------------+\n",
      "only showing top 5 rows\n",
      "\n"
     ]
    }
   ],
   "source": [
    "# 3.1 Select the data - extra step\n",
    "\n",
    "spark_cleaned_df.select(col('Diabetes'),\n",
    "                        col('Sex'),\n",
    "                        col('Age_Category'),\n",
    "                        col('BMI'),\n",
    "                        col('Alcohol_Consumption'),\n",
    "                        col('Fruit_Consumption')\n",
    "                        ,col('Heart_Disease')\n",
    "                        ).show(5)\n"
   ]
  },
  {
   "cell_type": "code",
   "execution_count": 24,
   "metadata": {},
   "outputs": [
    {
     "name": "stderr",
     "output_type": "stream",
     "text": [
      "                                                                                \r"
     ]
    },
    {
     "name": "stdout",
     "output_type": "stream",
     "text": [
      "+-------+-------------------+------------------+------------------+------------------+------------------+----------------------------+-----------------------+\n",
      "|summary|Alcohol_Consumption|       Weight_(kg)|               BMI|       Height_(cm)| Fruit_Consumption|Green_Vegetables_Consumption|FriedPotato_Consumption|\n",
      "+-------+-------------------+------------------+------------------+------------------+------------------+----------------------------+-----------------------+\n",
      "|  count|             308726|            308726|            308726|            308726|            308726|                      308726|                 308726|\n",
      "|   mean|   5.09646417859202| 83.58971641039332|28.626426189837257|170.61576284472315|29.834215453185024|           15.11007171407656|      6.296738855813893|\n",
      "| stddev|  8.199863955525894|21.342766155373493| 6.522310536178836|10.658088505950419| 24.87548109464612|          14.924939364135295|      8.583513879787972|\n",
      "|    min|                  0|             24.95|             12.02|                91|                 0|                           0|                      0|\n",
      "|    max|                 30|            293.02|             99.33|               241|               120|                         128|                    128|\n",
      "+-------+-------------------+------------------+------------------+------------------+------------------+----------------------------+-----------------------+\n",
      "\n"
     ]
    }
   ],
   "source": [
    "# 3.2 clean the data - Outliers/Extremes values and errors \n",
    "spark_cleaned_df.select(col('Alcohol_Consumption'),\n",
    "                        col('Weight_(kg)'),\n",
    "                        col('BMI'),\n",
    "                        col('Height_(cm)'),\n",
    "                        col('Fruit_Consumption'),\n",
    "                        col('Green_Vegetables_Consumption'),\n",
    "                        col('FriedPotato_Consumption'),\n",
    "                        ).describe().show()"
   ]
  },
  {
   "cell_type": "code",
   "execution_count": 25,
   "metadata": {},
   "outputs": [],
   "source": [
    "# 3.3 Construct the data\n",
    "\n",
    "from pyspark.sql.functions import when, col\n",
    "\n",
    "# Construct the Health_Status\n",
    "spark_cleaned_constructed_df = spark_cleaned_df.withColumn(\n",
    "  'Health_Status',\n",
    "  when(col('BMI') < 18.5, \"Underweight\")\n",
    "  .when((col('BMI') >= 18.5) & (col('BMI') <= 24.9), \"Normal\")\n",
    "  .when((col('BMI') >= 25) & (col('BMI') <= 29.9), \"Overweight\")\n",
    "  .otherwise(\"Obese\")\n",
    ")\n",
    "\n",
    "\n",
    "# Construct the Alcohol_Consumption_Status\n",
    "spark_cleaned_constructed_df = spark_cleaned_constructed_df.withColumn(\n",
    "  'Alcohol_Consumption_Status',\n",
    "  when(col('Alcohol_Consumption') == 0 , \"Zero Alcohol Consumption\")\n",
    "  .when(col('Alcohol_Consumption') <= 7.5 , \"Low Alcohol Consumption\")\n",
    "  .when((col('Alcohol_Consumption') > 7.5) & (col('Alcohol_Consumption') <= 15),\"Medium Alcohol Consumption\")\n",
    "  .when((col('Alcohol_Consumption') > 15) & (col('Alcohol_Consumption') <= 22.5), \"High Alcohol Consumption\")\n",
    "  .otherwise(\"Excess Alcohol Consumption\")\n",
    ")\n",
    "\n",
    "# Construct the Fruit_Consumption_Status\n",
    "spark_cleaned_constructed_df = spark_cleaned_constructed_df.withColumn(\n",
    "  'Fruit_Consumption_Status',\n",
    "  when(col('Fruit_Consumption') == 0 , \"Zero Fruit Consumption\")\n",
    "  .when(col('Fruit_Consumption') <= 30 , \"Low Fruit Consumption\")\n",
    "  .when((col('Fruit_Consumption') > 30) & (col('Fruit_Consumption') <= 60),\"Medium Fruit Consumption\")\n",
    "  .when((col('Fruit_Consumption') > 60) & (col('Fruit_Consumption') <= 90), \"High Fruit Consumption\")\n",
    "  .otherwise(\"Excess Fruit Consumption\")\n",
    ")\n"
   ]
  },
  {
   "cell_type": "code",
   "execution_count": 26,
   "metadata": {},
   "outputs": [
    {
     "name": "stdout",
     "output_type": "stream",
     "text": [
      "+--------------+--------------------+--------+-------------+-----------+------------+----------+--------+---------+------+------------+-----------+-----------+---------------+----------------------------+-----------------------+-------------+--------------------------+------------------------+\n",
      "|General_Health|             Checkup|Exercise|Heart_Disease|Skin_Cancer|Other_Cancer|Depression|Diabetes|Arthritis|   Sex|Age_Category|Height_(cm)|Weight_(kg)|Smoking_History|Green_Vegetables_Consumption|FriedPotato_Consumption|Health_Status|Alcohol_Consumption_Status|Fruit_Consumption_Status|\n",
      "+--------------+--------------------+--------+-------------+-----------+------------+----------+--------+---------+------+------------+-----------+-----------+---------------+----------------------------+-----------------------+-------------+--------------------------+------------------------+\n",
      "|          Poor|Within the past 2...|      No|           No|         No|          No|        No|      No|      Yes|Female|       70-74|        150|      32.66|            Yes|                          16|                     12|  Underweight|      Zero Alcohol Cons...|    Low Fruit Consump...|\n",
      "|     Very Good|Within the past year|      No|          Yes|         No|          No|        No|     Yes|       No|Female|       70-74|        165|      77.11|             No|                           0|                      4|   Overweight|      Zero Alcohol Cons...|    Low Fruit Consump...|\n",
      "|     Very Good|Within the past year|     Yes|           No|         No|          No|        No|     Yes|       No|Female|       60-64|        163|      88.45|             No|                           3|                     16|        Obese|      Low Alcohol Consu...|    Low Fruit Consump...|\n",
      "|          Good|Within the past year|      No|           No|         No|          No|        No|      No|       No|  Male|         80+|        191|      88.45|            Yes|                           4|                      0|       Normal|      Zero Alcohol Cons...|    Low Fruit Consump...|\n",
      "|          Good|Within the past year|      No|           No|         No|          No|       Yes|      No|      Yes|  Male|       60-64|        183|     154.22|             No|                          12|                     12|        Obese|      Zero Alcohol Cons...|    Low Fruit Consump...|\n",
      "+--------------+--------------------+--------+-------------+-----------+------------+----------+--------+---------+------+------------+-----------+-----------+---------------+----------------------------+-----------------------+-------------+--------------------------+------------------------+\n",
      "only showing top 5 rows\n",
      "\n"
     ]
    }
   ],
   "source": [
    "# Drop the useless variables\n",
    "\n",
    "spark_cleaned_constructed_df.drop('Fruit_Consumption', 'Alcohol_Consumption', \"BMI\").show(5)"
   ]
  },
  {
   "cell_type": "code",
   "execution_count": 27,
   "metadata": {},
   "outputs": [],
   "source": [
    "# 3.4 Intergrate the data \n",
    "spark_df_temp = spark.read.csv('Database/CardiovascularDisease/CVD_unclean_2021.csv', header=True)"
   ]
  },
  {
   "cell_type": "code",
   "execution_count": 28,
   "metadata": {},
   "outputs": [
    {
     "data": {
      "text/plain": [
       "['_STATE',\n",
       " 'FMONTH',\n",
       " 'IDATE',\n",
       " 'IMONTH',\n",
       " 'IDAY',\n",
       " 'IYEAR',\n",
       " 'DISPCODE',\n",
       " 'SEQNO',\n",
       " '_PSU',\n",
       " 'CTELENM1',\n",
       " 'PVTRESD1',\n",
       " 'COLGHOUS',\n",
       " 'STATERE1',\n",
       " 'CELPHON1',\n",
       " 'LADULT1',\n",
       " 'COLGSEX',\n",
       " 'NUMADULT',\n",
       " 'LANDSEX',\n",
       " 'NUMMEN',\n",
       " 'NUMWOMEN',\n",
       " 'RESPSLCT',\n",
       " 'SAFETIME',\n",
       " 'CTELNUM1',\n",
       " 'CELLFON5',\n",
       " 'CADULT1',\n",
       " 'CELLSEX',\n",
       " 'PVTRESD3',\n",
       " 'CCLGHOUS',\n",
       " 'CSTATE1',\n",
       " 'LANDLINE',\n",
       " 'HHADULT',\n",
       " 'SEXVAR',\n",
       " 'GENHLTH',\n",
       " 'PHYSHLTH',\n",
       " 'MENTHLTH',\n",
       " 'POORHLTH',\n",
       " 'PRIMINSR',\n",
       " 'PERSDOC3',\n",
       " 'MEDCOST1',\n",
       " 'CHECKUP1',\n",
       " 'EXERANY2',\n",
       " 'BPHIGH6',\n",
       " 'BPMEDS',\n",
       " 'CHOLCHK3',\n",
       " 'TOLDHI3',\n",
       " 'CHOLMED3',\n",
       " 'CVDINFR4',\n",
       " 'CVDCRHD4',\n",
       " 'CVDSTRK3',\n",
       " 'ASTHMA3',\n",
       " 'ASTHNOW',\n",
       " 'CHCSCNCR',\n",
       " 'CHCOCNCR',\n",
       " 'CHCCOPD3',\n",
       " 'ADDEPEV3',\n",
       " 'CHCKDNY2',\n",
       " 'DIABETE4',\n",
       " 'DIABAGE3',\n",
       " 'HAVARTH5',\n",
       " 'ARTHEXER',\n",
       " 'ARTHEDU',\n",
       " 'LMTJOIN3',\n",
       " 'ARTHDIS2',\n",
       " 'JOINPAI2',\n",
       " 'MARITAL',\n",
       " 'EDUCA',\n",
       " 'RENTHOM1',\n",
       " 'NUMHHOL3',\n",
       " 'NUMPHON3',\n",
       " 'CPDEMO1B',\n",
       " 'VETERAN3',\n",
       " 'EMPLOY1',\n",
       " 'CHILDREN',\n",
       " 'INCOME3',\n",
       " 'PREGNANT',\n",
       " 'WEIGHT2',\n",
       " 'HEIGHT3',\n",
       " 'DEAF',\n",
       " 'BLIND',\n",
       " 'DECIDE',\n",
       " 'DIFFWALK',\n",
       " 'DIFFDRES',\n",
       " 'DIFFALON',\n",
       " 'SMOKE100',\n",
       " 'SMOKDAY2',\n",
       " 'USENOW3',\n",
       " 'ECIGNOW1',\n",
       " 'ALCDAY5',\n",
       " 'AVEDRNK3',\n",
       " 'DRNK3GE5',\n",
       " 'MAXDRNKS',\n",
       " 'FLUSHOT7',\n",
       " 'FLSHTMY3',\n",
       " 'IMFVPLA2',\n",
       " 'PNEUVAC4',\n",
       " 'HIVTST7',\n",
       " 'HIVTSTD3',\n",
       " 'FRUIT2',\n",
       " 'FRUITJU2',\n",
       " 'FVGREEN1',\n",
       " 'FRENCHF1',\n",
       " 'POTATOE1',\n",
       " 'VEGETAB2',\n",
       " 'PDIABTST',\n",
       " 'PREDIAB1',\n",
       " 'INSULIN1',\n",
       " 'BLDSUGAR',\n",
       " 'FEETCHK3',\n",
       " 'DOCTDIAB',\n",
       " 'CHKHEMO3',\n",
       " 'FEETCHK',\n",
       " 'EYEEXAM1',\n",
       " 'DIABEYE',\n",
       " 'DIABEDU',\n",
       " 'TOLDCFS',\n",
       " 'HAVECFS',\n",
       " 'WORKCFS',\n",
       " 'TOLDHEPC',\n",
       " 'TRETHEPC',\n",
       " 'PRIRHEPC',\n",
       " 'HAVEHEPC',\n",
       " 'HAVEHEPB',\n",
       " 'MEDSHEPB',\n",
       " 'HPVADVC4',\n",
       " 'HPVADSHT',\n",
       " 'TETANUS1',\n",
       " 'SHINGLE2',\n",
       " 'LCSFIRST',\n",
       " 'LCSLAST',\n",
       " 'LCSNUMCG',\n",
       " 'LCSCTSCN',\n",
       " 'HADMAM',\n",
       " 'HOWLONG',\n",
       " 'CERVSCRN',\n",
       " 'CRVCLCNC',\n",
       " 'CRVCLPAP',\n",
       " 'CRVCLHPV',\n",
       " 'HADHYST2',\n",
       " 'PSATEST1',\n",
       " 'PSATIME1',\n",
       " 'PCPSARS2',\n",
       " 'PCSTALK',\n",
       " 'HADSIGM4',\n",
       " 'COLNSIGM',\n",
       " 'COLNTES1',\n",
       " 'SIGMTES1',\n",
       " 'LASTSIG4',\n",
       " 'COLNCNCR',\n",
       " 'VIRCOLO1',\n",
       " 'VCLNTES1',\n",
       " 'SMALSTOL',\n",
       " 'STOLTEST',\n",
       " 'STOOLDN1',\n",
       " 'BLDSTFIT',\n",
       " 'SDNATES1',\n",
       " 'CNCRDIFF',\n",
       " 'CNCRAGE',\n",
       " 'CNCRTYP1',\n",
       " 'CSRVTRT3',\n",
       " 'CSRVDOC1',\n",
       " 'CSRVSUM',\n",
       " 'CSRVRTRN',\n",
       " 'CSRVINST',\n",
       " 'CSRVINSR',\n",
       " 'CSRVDEIN',\n",
       " 'CSRVCLIN',\n",
       " 'CSRVPAIN',\n",
       " 'CSRVCTL2',\n",
       " 'HOMBPCHK',\n",
       " 'HOMRGCHK',\n",
       " 'WHEREBP',\n",
       " 'SHAREBP',\n",
       " 'WTCHSALT',\n",
       " 'DRADVISE',\n",
       " 'CIMEMLOS',\n",
       " 'CDHOUSE',\n",
       " 'CDASSIST',\n",
       " 'CDHELP',\n",
       " 'CDSOCIAL',\n",
       " 'CDDISCUS',\n",
       " 'CAREGIV1',\n",
       " 'CRGVREL4',\n",
       " 'CRGVLNG1',\n",
       " 'CRGVHRS1',\n",
       " 'CRGVPRB3',\n",
       " 'CRGVALZD',\n",
       " 'CRGVPER1',\n",
       " 'CRGVHOU1',\n",
       " 'CRGVEXPT',\n",
       " 'ACEDEPRS',\n",
       " 'ACEDRINK',\n",
       " 'ACEDRUGS',\n",
       " 'ACEPRISN',\n",
       " 'ACEDIVRC',\n",
       " 'ACEPUNCH',\n",
       " 'ACEHURT1',\n",
       " 'ACESWEAR',\n",
       " 'ACETOUCH',\n",
       " 'ACETTHEM',\n",
       " 'ACEHVSEX',\n",
       " 'ACEADSAF',\n",
       " 'ACEADNED',\n",
       " 'MARIJAN1',\n",
       " 'USEMRJN3',\n",
       " 'RSNMRJN2',\n",
       " 'LASTSMK2',\n",
       " 'STOPSMK2',\n",
       " 'FIREARM5',\n",
       " 'GUNLOAD',\n",
       " 'LOADULK2',\n",
       " 'RCSGENDR',\n",
       " 'RCSRLTN2',\n",
       " 'CASTHDX2',\n",
       " 'CASTHNO2',\n",
       " 'BIRTHSEX',\n",
       " 'SOMALE',\n",
       " 'SOFEMALE',\n",
       " 'TRNSGNDR',\n",
       " 'QSTVER',\n",
       " 'QSTLANG',\n",
       " '_METSTAT',\n",
       " '_URBSTAT',\n",
       " 'MSCODE',\n",
       " '_STSTR',\n",
       " '_STRWT',\n",
       " '_RAWRAKE',\n",
       " '_WT2RAKE',\n",
       " '_IMPRACE',\n",
       " '_CHISPNC',\n",
       " '_CRACE1',\n",
       " '_CPRACE1',\n",
       " 'CAGEG',\n",
       " '_CLLCPWT',\n",
       " '_DUALUSE',\n",
       " '_DUALCOR',\n",
       " '_LLCPWT2',\n",
       " '_LLCPWT',\n",
       " '_RFHLTH',\n",
       " '_PHYS14D',\n",
       " '_MENT14D',\n",
       " '_HLTHPLN',\n",
       " '_HCVU652',\n",
       " '_TOTINDA',\n",
       " '_RFHYPE6',\n",
       " '_CHOLCH3',\n",
       " '_RFCHOL3',\n",
       " '_MICHD',\n",
       " '_LTASTH1',\n",
       " '_CASTHM1',\n",
       " '_ASTHMS1',\n",
       " '_DRDXAR3',\n",
       " '_LMTACT3',\n",
       " '_LMTWRK3',\n",
       " '_PRACE1',\n",
       " '_MRACE1',\n",
       " '_HISPANC',\n",
       " '_RACE',\n",
       " '_RACEG21',\n",
       " '_RACEGR3',\n",
       " '_RACEPRV',\n",
       " '_SEX',\n",
       " '_AGEG5YR',\n",
       " '_AGE65YR',\n",
       " '_AGE80',\n",
       " '_AGE_G',\n",
       " 'HTIN4',\n",
       " 'HTM4',\n",
       " 'WTKG3',\n",
       " '_BMI5',\n",
       " '_BMI5CAT',\n",
       " '_RFBMI5',\n",
       " '_CHLDCNT',\n",
       " '_EDUCAG',\n",
       " '_INCOMG1',\n",
       " '_SMOKER3',\n",
       " '_RFSMOK3',\n",
       " '_CURECI1',\n",
       " 'DRNKANY5',\n",
       " 'DROCDY3_',\n",
       " '_RFBING5',\n",
       " '_DRNKWK1',\n",
       " '_RFDRHV7',\n",
       " '_FLSHOT7',\n",
       " '_PNEUMO3',\n",
       " '_AIDTST4',\n",
       " 'FTJUDA2_',\n",
       " 'FRUTDA2_',\n",
       " 'GRENDA1_',\n",
       " 'FRNCHDA_',\n",
       " 'POTADA1_',\n",
       " 'VEGEDA2_',\n",
       " '_MISFRT1',\n",
       " '_MISVEG1',\n",
       " '_FRTRES1',\n",
       " '_VEGRES1',\n",
       " '_FRUTSU1',\n",
       " '_VEGESU1',\n",
       " '_FRTLT1A',\n",
       " '_VEGLT1A',\n",
       " '_FRT16A',\n",
       " '_VEG23A',\n",
       " '_FRUITE1',\n",
       " '_VEGETE1']"
      ]
     },
     "execution_count": 28,
     "metadata": {},
     "output_type": "execute_result"
    }
   ],
   "source": [
    "spark_df_temp.columns"
   ]
  },
  {
   "cell_type": "code",
   "execution_count": 29,
   "metadata": {},
   "outputs": [
    {
     "name": "stderr",
     "output_type": "stream",
     "text": [
      "[Stage 24:===========================================>              (3 + 1) / 4]\r"
     ]
    },
    {
     "name": "stdout",
     "output_type": "stream",
     "text": [
      "shape (438693, 303)\n"
     ]
    },
    {
     "name": "stderr",
     "output_type": "stream",
     "text": [
      "                                                                                \r"
     ]
    }
   ],
   "source": [
    "num_rows = spark_df_temp.count()\n",
    "num_cols = len(spark_df_temp.columns)\n",
    "\n",
    "print(\"shape ({}, {})\".format(num_rows, num_cols) )"
   ]
  },
  {
   "cell_type": "code",
   "execution_count": 30,
   "metadata": {},
   "outputs": [
    {
     "name": "stdout",
     "output_type": "stream",
     "text": [
      "+--------+------+------------+-------------+--------------------------+------------------------+-------------+\n",
      "|Diabetes|   Sex|Age_Category|Health_Status|Alcohol_Consumption_Status|Fruit_Consumption_Status|Heart_Disease|\n",
      "+--------+------+------------+-------------+--------------------------+------------------------+-------------+\n",
      "|      No|Female|       70-74|  Underweight|      Zero Alcohol Cons...|    Low Fruit Consump...|           No|\n",
      "|     Yes|Female|       70-74|   Overweight|      Zero Alcohol Cons...|    Low Fruit Consump...|          Yes|\n",
      "|     Yes|Female|       60-64|        Obese|      Low Alcohol Consu...|    Low Fruit Consump...|           No|\n",
      "|      No|  Male|         80+|       Normal|      Zero Alcohol Cons...|    Low Fruit Consump...|           No|\n",
      "|      No|  Male|       60-64|        Obese|      Zero Alcohol Cons...|    Low Fruit Consump...|           No|\n",
      "+--------+------+------------+-------------+--------------------------+------------------------+-------------+\n",
      "only showing top 5 rows\n",
      "\n"
     ]
    }
   ],
   "source": [
    "# 3.5 Format the data as required\n",
    "\n",
    "# Select we have contructed data\n",
    "\n",
    "spark_cleaned_constructed_selected_df = spark_cleaned_constructed_df.select(\n",
    "  col('Diabetes'),\n",
    "  col('Sex'),\n",
    "  col('Age_Category'),\n",
    "  col('Health_Status'),\n",
    "  col('Alcohol_Consumption_Status'),\n",
    "  col('Fruit_Consumption_Status')\n",
    "  ,col('Heart_Disease')\n",
    ")\n",
    "spark_cleaned_constructed_selected_df.show(5)"
   ]
  },
  {
   "cell_type": "code",
   "execution_count": 31,
   "metadata": {},
   "outputs": [],
   "source": [
    "\n",
    "# Label-encoding method for target variable\n",
    "spark_cleaned_constructed_selected_df = spark_cleaned_constructed_selected_df.withColumn(\"Heart_Disease_Encoded\", \n",
    "                   when(col(\"Heart_Disease\") == \"Yes\", 1)\n",
    "                   .when(col(\"Heart_Disease\") == \"No\", 0)\n",
    "                   .cast('int')\n",
    "                   )\n",
    "spark_cleaned_constructed_selected_df = spark_cleaned_constructed_selected_df.drop('Heart_Disease')\n",
    "\n",
    "# One-Hot encoding Method\n",
    "from pyspark.ml.feature import (VectorAssembler,VectorIndexer,\n",
    "                                OneHotEncoder,StringIndexer)\n",
    "from pyspark.ml import Pipeline\n",
    "\n",
    "# Fruit Consumption Status \n",
    "FCS_indexer = StringIndexer(inputCol=\"Fruit_Consumption_Status\", outputCol=\"Fruit_Consumption_Status_Indexed\")\n",
    "FCS_encoder = OneHotEncoder(inputCol=\"Fruit_Consumption_Status_Indexed\", outputCol=\"Fruit_Consumption_Status_Vec\")\n",
    "\n",
    "# Sex\n",
    "Sex_indexer = StringIndexer(inputCol=\"Sex\", outputCol=\"Sex_Indexed\")\n",
    "Sex_encoder = OneHotEncoder(inputCol=\"Sex_Indexed\", outputCol=\"Sex_Vec\")\n",
    "\n",
    "# Age_Category\n",
    "AC_indexer = StringIndexer(inputCol=\"Age_Category\", outputCol=\"Age_Category_Indexed\")\n",
    "AC_encoder = OneHotEncoder(inputCol=\"Age_Category_Indexed\", outputCol=\"Age_Category_Vec\")\n",
    "\n",
    "# Diabetes\n",
    "Diabetes_indexer = StringIndexer(inputCol=\"Diabetes\", outputCol=\"Diabetes_Indexed\")\n",
    "Diabetes_encoder = OneHotEncoder(inputCol=\"Diabetes_Indexed\", outputCol=\"Diabetes_Vec\")\n",
    "\n",
    "# Alcohol_Consumption_Status\n",
    "ACS_indexer = StringIndexer(inputCol=\"Alcohol_Consumption_Status\", outputCol=\"Alcohol_Consumption_Status_Indexed\")\n",
    "ACS_encoder = OneHotEncoder(inputCol=\"Alcohol_Consumption_Status_Indexed\", outputCol=\"Alcohol_Consumption_Status_Vec\")\n",
    "\n",
    "# Health_Status\n",
    "HS_indexer = StringIndexer(inputCol=\"Health_Status\", outputCol=\"Health_Status_Indexed\")\n",
    "HS_encoder = OneHotEncoder(inputCol=\"Health_Status_Indexed\", outputCol=\"Health_Status_Vec\")\n",
    "\n"
   ]
  },
  {
   "cell_type": "code",
   "execution_count": 32,
   "metadata": {},
   "outputs": [],
   "source": [
    "assembler = VectorAssembler(inputCols=[\n",
    "'Fruit_Consumption_Status_Vec',\n",
    " 'Sex_Vec',\n",
    " 'Age_Category_Vec',\n",
    " 'Diabetes_Vec',\n",
    " 'Alcohol_Consumption_Status_Vec',\n",
    " 'Health_Status_Vec'\n",
    " ],outputCol='features')\n",
    "\n",
    " "
   ]
  },
  {
   "cell_type": "code",
   "execution_count": 33,
   "metadata": {},
   "outputs": [
    {
     "name": "stderr",
     "output_type": "stream",
     "text": [
      "                                                                                \r"
     ]
    }
   ],
   "source": [
    "# 4 Data Transformation \n",
    "\n",
    "# 4.1 Reduce the data - under-sampling method \n",
    "count_class_0 = spark_cleaned_constructed_selected_df.filter(spark_cleaned_constructed_selected_df['Heart_Disease_Encoded'] == 0).count()\n",
    "count_class_1 = spark_cleaned_constructed_selected_df.filter(spark_cleaned_constructed_selected_df['Heart_Disease_Encoded'] == 1).count()\n",
    "\n",
    "\n",
    "fraction = count_class_1 / float(count_class_0)\n",
    "df_class_1_under = spark_cleaned_constructed_selected_df.filter(spark_cleaned_constructed_selected_df['Heart_Disease_Encoded'] == 0).sample(False, fraction)\n",
    "df_balanced = df_class_1_under.unionAll(spark_cleaned_constructed_selected_df.filter(spark_cleaned_constructed_selected_df['Heart_Disease_Encoded'] == 1))"
   ]
  },
  {
   "cell_type": "code",
   "execution_count": 34,
   "metadata": {},
   "outputs": [
    {
     "name": "stderr",
     "output_type": "stream",
     "text": [
      "                                                                                \r"
     ]
    },
    {
     "data": {
      "text/plain": [
       "<AxesSubplot:ylabel='Heart_Disease_Encoded'>"
      ]
     },
     "execution_count": 34,
     "metadata": {},
     "output_type": "execute_result"
    },
    {
     "data": {
      "image/png": "[encoded data removed]",
      "text/plain": [
       "<Figure size 432x288 with 1 Axes>"
      ]
     },
     "metadata": {},
     "output_type": "display_data"
    }
   ],
   "source": [
    "# visulizad the proportion, to see whether the class is balanced or not.\n",
    "df_balanced_pandas = df_balanced.toPandas()\n",
    "df_balanced_pandas['Heart_Disease_Encoded'].value_counts().plot.pie()"
   ]
  },
  {
   "cell_type": "code",
   "execution_count": 35,
   "metadata": {},
   "outputs": [
    {
     "name": "stderr",
     "output_type": "stream",
     "text": [
      "[Stage 35:>                                                         (0 + 2) / 4]\r"
     ]
    }
   ],
   "source": [
    "from pyspark.ml.feature import StringIndexer, VectorAssembler\n",
    "from pyspark.ml.stat import ChiSquareTest\n",
    "\n",
    "df_balanced_temp = df_balanced\n",
    "\n",
    "# Indexing all the categorical variables\n",
    "indexers = [\n",
    "    StringIndexer(inputCol=c, outputCol=c+\"_Indexed\").fit(df_balanced_temp) for c in [\n",
    "        'Diabetes', 'Sex', 'Age_Category', 'Health_Status', 'Alcohol_Consumption_Status', 'Fruit_Consumption_Status'\n",
    "    ]\n",
    "]\n",
    "\n",
    "# Apply transformations\n",
    "for indexer in indexers:\n",
    "    df_balanced_temp = indexer.transform(df_balanced_temp)\n",
    "\n",
    "# Assembling indexed features into one vector\n",
    "assembler = VectorAssembler(\n",
    "    inputCols=['Diabetes_Indexed', 'Sex_Indexed', 'Age_Category_Indexed', 'Health_Status_Indexed', 'Alcohol_Consumption_Status_Indexed', 'Fruit_Consumption_Status_Indexed'],\n",
    "    outputCol=\"features\"\n",
    ")\n",
    "\n",
    "\n",
    "assembled = assembler.transform(df_balanced_temp)\n",
    "\n",
    "# Using ChiSquareTest\n",
    "r = ChiSquareTest.test(assembled, 'features', 'Heart_Disease_Encoded').head()\n",
    "print(\"pValues: \" + str(r.pValues))"
   ]
  },
  {
   "cell_type": "code",
   "execution_count": null,
   "metadata": {},
   "outputs": [
    {
     "name": "stderr",
     "output_type": "stream",
     "text": [
      "[Stage 59:=============================>                            (2 + 2) / 4]\r"
     ]
    },
    {
     "name": "stdout",
     "output_type": "stream",
     "text": [
      "shape (50114, 7)\n"
     ]
    },
    {
     "name": "stderr",
     "output_type": "stream",
     "text": [
      "                                                                                \r"
     ]
    }
   ],
   "source": [
    "num_rows = df_balanced.count()\n",
    "num_cols = len(df_balanced.columns)\n",
    "\n",
    "print(\"shape ({}, {})\".format(num_rows, num_cols) )"
   ]
  },
  {
   "cell_type": "code",
   "execution_count": null,
   "metadata": {},
   "outputs": [
    {
     "name": "stdout",
     "output_type": "stream",
     "text": [
      "root\n",
      " |-- Diabetes: string (nullable = true)\n",
      " |-- Sex: string (nullable = true)\n",
      " |-- Age_Category: string (nullable = true)\n",
      " |-- Health_Status: string (nullable = false)\n",
      " |-- Alcohol_Consumption_Status: string (nullable = false)\n",
      " |-- Fruit_Consumption_Status: string (nullable = false)\n",
      " |-- Heart_Disease_Encoded: integer (nullable = true)\n",
      "\n"
     ]
    }
   ],
   "source": [
    "df_balanced.printSchema()"
   ]
  },
  {
   "cell_type": "code",
   "execution_count": null,
   "metadata": {},
   "outputs": [
    {
     "name": "stderr",
     "output_type": "stream",
     "text": [
      "                                                                                \r"
     ]
    }
   ],
   "source": [
    "# 7.2 Conduct data mining\n",
    "from pyspark.ml.classification import LogisticRegression\n",
    "from pyspark.ml.evaluation import BinaryClassificationEvaluator\n",
    "from pyspark.ml.evaluation import MulticlassClassificationEvaluator\n",
    "\n",
    "data = assembled.select(\"features\", \"Heart_Disease_Encoded\")\n",
    "\n",
    "train_data, test_data = data.randomSplit([0.7,0.3])\n",
    "\n",
    "log_reg_cvd = LogisticRegression(featuresCol='features',labelCol='Heart_Disease_Encoded')\n",
    "\n",
    "pipeline = Pipeline(stages=[\n",
    "  FCS_indexer, FCS_encoder,\n",
    "  Sex_indexer, Sex_encoder,\n",
    "  AC_indexer, AC_encoder,\n",
    "  Diabetes_indexer, Diabetes_encoder,\n",
    "  ACS_indexer, ACS_encoder,\n",
    "  HS_indexer, HS_encoder,\n",
    "  assembler,log_reg_cvd])\n",
    "\n",
    "train_data, test_data = df_balanced.randomSplit([0.7,.3])\n",
    "fit_model = pipeline.fit(train_data)\n",
    "results = fit_model.transform(test_data)\n"
   ]
  },
  {
   "cell_type": "code",
   "execution_count": null,
   "metadata": {},
   "outputs": [
    {
     "name": "stderr",
     "output_type": "stream",
     "text": [
      "[Stage 90:>                                                         (0 + 1) / 1]\r"
     ]
    },
    {
     "name": "stdout",
     "output_type": "stream",
     "text": [
      "+--------+------+------------+-------------+--------------------------+------------------------+---------------------+--------------------------------+----------------------------+-----------+---------+--------------------+----------------+----------------+-------------+----------------------------------+------------------------------+---------------------+-----------------+--------------------+--------------------+--------------------+----------+\n",
      "|Diabetes|   Sex|Age_Category|Health_Status|Alcohol_Consumption_Status|Fruit_Consumption_Status|Heart_Disease_Encoded|Fruit_Consumption_Status_Indexed|Fruit_Consumption_Status_Vec|Sex_Indexed|  Sex_Vec|Age_Category_Indexed|Age_Category_Vec|Diabetes_Indexed| Diabetes_Vec|Alcohol_Consumption_Status_Indexed|Alcohol_Consumption_Status_Vec|Health_Status_Indexed|Health_Status_Vec|            features|       rawPrediction|         probability|prediction|\n",
      "+--------+------+------------+-------------+--------------------------+------------------------+---------------------+--------------------------------+----------------------------+-----------+---------+--------------------+----------------+----------------+-------------+----------------------------------+------------------------------+---------------------+-----------------+--------------------+--------------------+--------------------+----------+\n",
      "|      No|Female|       18-24|       Normal|      Excess Alcohol Co...|    Low Fruit Consump...|                    0|                             0.0|               (4,[0],[1.0])|        1.0|(1,[],[])|                11.0| (12,[11],[1.0])|             0.0|(3,[0],[1.0])|                               3.0|                 (4,[3],[1.0])|                  2.0|    (3,[2],[1.0])|[0.0,1.0,11.0,2.0...|[3.11358424024557...|[0.95744961683909...|       0.0|\n",
      "|      No|Female|       18-24|       Normal|      Excess Alcohol Co...|    Low Fruit Consump...|                    0|                             0.0|               (4,[0],[1.0])|        1.0|(1,[],[])|                11.0| (12,[11],[1.0])|             0.0|(3,[0],[1.0])|                               3.0|                 (4,[3],[1.0])|                  2.0|    (3,[2],[1.0])|[0.0,1.0,11.0,2.0...|[3.11358424024557...|[0.95744961683909...|       0.0|\n",
      "|      No|Female|       18-24|       Normal|      Excess Alcohol Co...|    Low Fruit Consump...|                    0|                             0.0|               (4,[0],[1.0])|        1.0|(1,[],[])|                11.0| (12,[11],[1.0])|             0.0|(3,[0],[1.0])|                               3.0|                 (4,[3],[1.0])|                  2.0|    (3,[2],[1.0])|[0.0,1.0,11.0,2.0...|[3.11358424024557...|[0.95744961683909...|       0.0|\n",
      "|      No|Female|       18-24|       Normal|      Excess Alcohol Co...|    Low Fruit Consump...|                    0|                             0.0|               (4,[0],[1.0])|        1.0|(1,[],[])|                11.0| (12,[11],[1.0])|             0.0|(3,[0],[1.0])|                               3.0|                 (4,[3],[1.0])|                  2.0|    (3,[2],[1.0])|[0.0,1.0,11.0,2.0...|[3.11358424024557...|[0.95744961683909...|       0.0|\n",
      "|      No|Female|       18-24|       Normal|      Excess Alcohol Co...|    Medium Fruit Cons...|                    0|                             1.0|               (4,[1],[1.0])|        1.0|(1,[],[])|                11.0| (12,[11],[1.0])|             0.0|(3,[0],[1.0])|                               3.0|                 (4,[3],[1.0])|                  2.0|    (3,[2],[1.0])|[0.0,1.0,11.0,2.0...|[3.11613313930315...|[0.95755333760556...|       0.0|\n",
      "+--------+------+------------+-------------+--------------------------+------------------------+---------------------+--------------------------------+----------------------------+-----------+---------+--------------------+----------------+----------------+-------------+----------------------------------+------------------------------+---------------------+-----------------+--------------------+--------------------+--------------------+----------+\n",
      "only showing top 5 rows\n",
      "\n"
     ]
    },
    {
     "name": "stderr",
     "output_type": "stream",
     "text": [
      "                                                                                \r"
     ]
    }
   ],
   "source": [
    "results.show(5)"
   ]
  },
  {
   "cell_type": "code",
   "execution_count": null,
   "metadata": {},
   "outputs": [
    {
     "name": "stderr",
     "output_type": "stream",
     "text": [
      "                                                                                \r"
     ]
    },
    {
     "name": "stdout",
     "output_type": "stream",
     "text": [
      "Train set accuracy:  0.7016736282783508\n"
     ]
    },
    {
     "name": "stderr",
     "output_type": "stream",
     "text": [
      "                                                                                \r"
     ]
    },
    {
     "name": "stdout",
     "output_type": "stream",
     "text": [
      "Test set accuracy:  0.6999530862542725\n"
     ]
    },
    {
     "name": "stderr",
     "output_type": "stream",
     "text": [
      "[Stage 96:=============================>                            (2 + 2) / 4]\r"
     ]
    },
    {
     "name": "stdout",
     "output_type": "stream",
     "text": [
      "              precision    recall  f1-score   support\n",
      "\n",
      "           0       0.72      0.65      0.68      7459\n",
      "           1       0.68      0.75      0.72      7462\n",
      "\n",
      "    accuracy                           0.70     14921\n",
      "   macro avg       0.70      0.70      0.70     14921\n",
      "weighted avg       0.70      0.70      0.70     14921\n",
      "\n"
     ]
    },
    {
     "name": "stderr",
     "output_type": "stream",
     "text": [
      "                                                                                \r"
     ]
    }
   ],
   "source": [
    "# 7.3 Search for pattern\n",
    "evaluator = MulticlassClassificationEvaluator(labelCol=\"Heart_Disease_Encoded\", predictionCol=\"prediction\", metricName=\"accuracy\")\n",
    "train_results = fit_model.transform(train_data)\n",
    "train_accuracy = evaluator.evaluate(train_results)\n",
    "print(\"Train set accuracy: \", train_accuracy)\n",
    "test_accuracy = evaluator.evaluate(results)\n",
    "print(\"Test set accuracy: \", test_accuracy)\n",
    "\n",
    "# 8.2 \n",
    "from pyspark.ml.evaluation import MulticlassClassificationEvaluator\n",
    "from sklearn.metrics import classification_report\n",
    "\n",
    "# convert to Pandas DataFrame\n",
    "y_true = results.select(\"Heart_Disease_Encoded\").toPandas()\n",
    "y_pred = results.select(\"prediction\").toPandas()\n",
    "\n",
    "# use classification_report from scikit-learn to generate report.\n",
    "print(classification_report(y_true, y_pred))\n"
   ]
  },
  {
   "cell_type": "code",
   "execution_count": null,
   "metadata": {},
   "outputs": [
    {
     "name": "stderr",
     "output_type": "stream",
     "text": [
      "                                                                                \r"
     ]
    },
    {
     "data": {
      "image/png": "[encoded data removed]",
      "text/plain": [
       "<Figure size 360x360 with 2 Axes>"
      ]
     },
     "metadata": {
      "needs_background": "light"
     },
     "output_type": "display_data"
    }
   ],
   "source": [
    "import pandas as pd\n",
    "\n",
    "# Convert to Pandas DataFrame\n",
    "pdf = results.select(\"Heart_Disease_Encoded\", \"prediction\").toPandas()\n",
    "from sklearn.metrics import confusion_matrix\n",
    "import seaborn as sns\n",
    "import matplotlib.pyplot as plt\n",
    "\n",
    "# Generate confusion matrix\n",
    "cm = confusion_matrix(pdf[\"Heart_Disease_Encoded\"], pdf[\"prediction\"])\n",
    "\n",
    "# Plot the confusion matrix\n",
    "plt.figure(figsize=(5,5))\n",
    "sns.heatmap(cm, annot=True, fmt='g', cmap='Blues', xticklabels=[\"0\", \"1\"], yticklabels=[\"0\", \"1\"])\n",
    "plt.xlabel('Predicted Label')\n",
    "plt.ylabel('True Label')\n",
    "plt.show()\n"
   ]
  },
  {
   "cell_type": "code",
   "execution_count": null,
   "metadata": {},
   "outputs": [
    {
     "name": "stderr",
     "output_type": "stream",
     "text": [
      "                                                                                \r"
     ]
    },
    {
     "name": "stdout",
     "output_type": "stream",
     "text": [
      "Area under ROC curve: 0.7600941252006099\n"
     ]
    },
    {
     "name": "stderr",
     "output_type": "stream",
     "text": [
      "/home/ubuntu/spark-3.2.1-bin-hadoop2.7/python/pyspark/sql/context.py:125: FutureWarning: Deprecated in 3.0.0. Use SparkSession.builder.getOrCreate() instead.\n",
      "  warnings.warn(\n",
      "                                                                                \r"
     ]
    },
    {
     "data": {
      "image/png": "[encoded data removed]",
      "text/plain": [
       "<Figure size 576x432 with 1 Axes>"
      ]
     },
     "metadata": {
      "needs_background": "light"
     },
     "output_type": "display_data"
    }
   ],
   "source": [
    "# 8.4 evaluate model \n",
    "from pyspark.ml.evaluation import BinaryClassificationEvaluator\n",
    "from pyspark.mllib.evaluation import BinaryClassificationMetrics\n",
    "import matplotlib.pyplot as plt\n",
    "\n",
    "# Evaluate model\n",
    "evaluator = BinaryClassificationEvaluator(rawPredictionCol=\"rawPrediction\", labelCol=\"Heart_Disease_Encoded\")\n",
    "roc_auc = evaluator.evaluate(results, {evaluator.metricName: \"areaUnderROC\"})\n",
    "print(f\"Area under ROC curve: {roc_auc}\")\n",
    "\n",
    "# Get FPR and TPR\n",
    "results_rdd = results.select(['probability', 'Heart_Disease_Encoded']) \\\n",
    "    .rdd.map(lambda row: (float(row['probability'][1]), float(row['Heart_Disease_Encoded'])))\n",
    "metrics = BinaryClassificationMetrics(results_rdd)\n",
    "\n",
    "fpr = dict()\n",
    "tpr = dict()\n",
    "roc_auc = dict()\n",
    "\n",
    "y_test = results.select('Heart_Disease_Encoded').rdd.flatMap(lambda x: x).collect()\n",
    "y_score = results.select('probability').rdd.map(lambda x: x['probability'][1]).collect()\n",
    "\n",
    "from sklearn.metrics import roc_curve, auc\n",
    "\n",
    "fpr, tpr, _ = roc_curve(y_test, y_score)\n",
    "roc_auc = auc(fpr, tpr)\n",
    "\n",
    "# drow ROC\n",
    "plt.figure(figsize=(8, 6))\n",
    "plt.plot(fpr, tpr, color='darkorange', label='ROC curve (area = %0.2f)' % roc_auc)\n",
    "plt.plot([0, 1], [0, 1], color='navy', linestyle='--')\n",
    "plt.xlim([0.0, 1.0])\n",
    "plt.ylim([0.0, 1.05])\n",
    "plt.xlabel('False Positive Rate')\n",
    "plt.ylabel('True Positive Rate')\n",
    "plt.title('Logistic Regression ROC Curve')\n",
    "plt.legend(loc=\"lower right\")\n",
    "plt.show()\n"
   ]
  },
  {
   "cell_type": "code",
   "execution_count": null,
   "metadata": {},
   "outputs": [
    {
     "name": "stderr",
     "output_type": "stream",
     "text": [
      "/home/ubuntu/spark-3.2.1-bin-hadoop2.7/python/pyspark/sql/context.py:125: FutureWarning: Deprecated in 3.0.0. Use SparkSession.builder.getOrCreate() instead.\n",
      "  warnings.warn(\n",
      "[Stage 116:============================>                            (2 + 2) / 4]\r"
     ]
    },
    {
     "name": "stdout",
     "output_type": "stream",
     "text": [
      "+--------------------+--------------------+------------------+------------------+-------------------+\n",
      "|          antecedent|          consequent|        confidence|              lift|            support|\n",
      "+--------------------+--------------------+------------------+------------------+-------------------+\n",
      "|         [Obese, No]|              [Male]|0.5205570291777188|0.9666936544953755|  0.125314283433771|\n",
      "|         [Obese, No]|                 [0]|0.5548740053050398|  1.10564436985514|0.13357544797860876|\n",
      "|         [Obese, No]|[Low Fruit Consum...|0.7761107427055703|1.0337828923782515|0.18683401843796144|\n",
      "|[Zero Alcohol Con...|                 [1]|0.5830485658071864|1.1704412685010952|0.22470766652033364|\n",
      "|[Zero Alcohol Con...|            [Female]|0.5020710365537951|1.0878929404123525|0.19349882268427984|\n",
      "+--------------------+--------------------+------------------+------------------+-------------------+\n",
      "only showing top 5 rows\n",
      "\n"
     ]
    },
    {
     "name": "stderr",
     "output_type": "stream",
     "text": [
      "                                                                                \r"
     ]
    }
   ],
   "source": [
    "from pyspark.ml.fpm import FPGrowth\n",
    "from pyspark.sql.functions import array\n",
    "from pyspark.sql import functions as F\n",
    "\n",
    "df_as_list = df_balanced.withColumn(\"items\", array(\n",
    "  'Diabetes', \n",
    "  'Sex', \n",
    "  'Age_Category', \n",
    "  'Health_Status', \n",
    "  'Alcohol_Consumption_Status', \n",
    "  'Fruit_Consumption_Status', \n",
    "  'Heart_Disease_Encoded'\n",
    "  ))\n",
    "\n",
    "df_as_list = df_as_list.select(\"items\")\n",
    "\n",
    "fpGrowth = FPGrowth(itemsCol=\"items\", minSupport=0.1, minConfidence=0.5)\n",
    "\n",
    "model = fpGrowth.fit(df_as_list)\n",
    "\n",
    "model.associationRules.show(5)"
   ]
  },
  {
   "cell_type": "code",
   "execution_count": null,
   "metadata": {},
   "outputs": [
    {
     "name": "stdout",
     "output_type": "stream",
     "text": [
      "+--------------------+----------+------------------+------------------+-------------------+\n",
      "|          antecedent|consequent|        confidence|              lift|            support|\n",
      "+--------------------+----------+------------------+------------------+-------------------+\n",
      "|         [Yes, Male]|       [1]|0.7924961715160797|1.5908970172791546|0.10326455681047213|\n",
      "|[Yes, Zero Alcoho...|       [1]|0.7670634920634921| 1.539842166370367|0.11571616713892326|\n",
      "|[Yes, Low Fruit C...|       [1]|0.7533147243545011|1.5122421926094163|0.12924532066887495|\n",
      "|               [Yes]|       [1]|0.7478788961328927|1.5013300352829588|0.16709901424751566|\n",
      "|[Zero Alcohol Con...|       [1]|0.6420921285224083|1.2889683115194668|0.12321906054196433|\n",
      "+--------------------+----------+------------------+------------------+-------------------+\n",
      "\n",
      "+--------------------+----------+------------------+------------------+-------------------+\n",
      "|          antecedent|consequent|        confidence|              lift|            support|\n",
      "+--------------------+----------+------------------+------------------+-------------------+\n",
      "|[Low Alcohol Cons...|       [0]|0.6469288148079934|1.2890731858961344| 0.1401803887137327|\n",
      "|[Low Alcohol Cons...|       [0]|0.6408148239047736|1.2768904208812655|0.10420241848585225|\n",
      "|        [Female, No]|       [0]|0.6403543869677051|1.2759729522266232| 0.2235503053039071|\n",
      "|[Female, No, Low ...|       [0]|0.6343397133018339|1.2639880871732845| 0.1580596240571497|\n",
      "|        [Normal, No]|       [0]|0.6197530864197531|1.2349227106496823|0.13523167178832263|\n",
      "+--------------------+----------+------------------+------------------+-------------------+\n",
      "\n"
     ]
    }
   ],
   "source": [
    "from pyspark.sql.functions import array, desc\n",
    "\n",
    "filtered_rules_1 = model.associationRules.filter(F.expr(\"array_contains(consequent, '1')\")).orderBy(desc(\"confidence\")).limit(5)\n",
    "filtered_rules_1.show()\n",
    "filtered_rules_0 = model.associationRules.filter(F.expr(\"array_contains(consequent, '0')\")).orderBy(desc(\"confidence\")).limit(5)\n",
    "filtered_rules_0.show()\n"
   ]
  }
 ],
 "metadata": {
  "kernelspec": {
   "display_name": "Python 3 (ipykernel)",
   "language": "python",
   "name": "python3"
  },
  "language_info": {
   "codemirror_mode": {
    "name": "ipython",
    "version": 3
   },
   "file_extension": ".py",
   "mimetype": "text/x-python",
   "name": "python",
   "nbconvert_exporter": "python",
   "pygments_lexer": "ipython3",
   "version": "3.10.12"
  }
 },
 "nbformat": 4,
 "nbformat_minor": 2
}
